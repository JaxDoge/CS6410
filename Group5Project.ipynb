{
  "nbformat": 4,
  "nbformat_minor": 0,
  "metadata": {
    "colab": {
      "provenance": [],
      "toc_visible": true,
      "include_colab_link": true
    },
    "kernelspec": {
      "name": "python3",
      "display_name": "Python 3"
    },
    "language_info": {
      "name": "python"
    },
    "widgets": {
      "application/vnd.jupyter.widget-state+json": {
        "445f35809891478789de883fa65033d7": {
          "model_module": "@jupyter-widgets/controls",
          "model_name": "HBoxModel",
          "model_module_version": "1.5.0",
          "state": {
            "_dom_classes": [],
            "_model_module": "@jupyter-widgets/controls",
            "_model_module_version": "1.5.0",
            "_model_name": "HBoxModel",
            "_view_count": null,
            "_view_module": "@jupyter-widgets/controls",
            "_view_module_version": "1.5.0",
            "_view_name": "HBoxView",
            "box_style": "",
            "children": [
              "IPY_MODEL_7696b4f8313647b28889a22999a0abff",
              "IPY_MODEL_aac418dc297c42dda798265fcb09fb6d",
              "IPY_MODEL_d1de72c6562d4d039e55912559370a31"
            ],
            "layout": "IPY_MODEL_856abb7bb08944629b1286cce0571a91"
          }
        },
        "7696b4f8313647b28889a22999a0abff": {
          "model_module": "@jupyter-widgets/controls",
          "model_name": "HTMLModel",
          "model_module_version": "1.5.0",
          "state": {
            "_dom_classes": [],
            "_model_module": "@jupyter-widgets/controls",
            "_model_module_version": "1.5.0",
            "_model_name": "HTMLModel",
            "_view_count": null,
            "_view_module": "@jupyter-widgets/controls",
            "_view_module_version": "1.5.0",
            "_view_name": "HTMLView",
            "description": "",
            "description_tooltip": null,
            "layout": "IPY_MODEL_86339fd481804bc9bcb6c9d8d019115c",
            "placeholder": "​",
            "style": "IPY_MODEL_e4e73957e3444d3e84c281f953b858c0",
            "value": "Downloading data: 100%"
          }
        },
        "aac418dc297c42dda798265fcb09fb6d": {
          "model_module": "@jupyter-widgets/controls",
          "model_name": "FloatProgressModel",
          "model_module_version": "1.5.0",
          "state": {
            "_dom_classes": [],
            "_model_module": "@jupyter-widgets/controls",
            "_model_module_version": "1.5.0",
            "_model_name": "FloatProgressModel",
            "_view_count": null,
            "_view_module": "@jupyter-widgets/controls",
            "_view_module_version": "1.5.0",
            "_view_name": "ProgressView",
            "bar_style": "success",
            "description": "",
            "description_tooltip": null,
            "layout": "IPY_MODEL_6c574235477040ca81b21a898e964dfb",
            "max": 19878802,
            "min": 0,
            "orientation": "horizontal",
            "style": "IPY_MODEL_a8d667e3f9ba4917859a483c03942cb8",
            "value": 19878802
          }
        },
        "d1de72c6562d4d039e55912559370a31": {
          "model_module": "@jupyter-widgets/controls",
          "model_name": "HTMLModel",
          "model_module_version": "1.5.0",
          "state": {
            "_dom_classes": [],
            "_model_module": "@jupyter-widgets/controls",
            "_model_module_version": "1.5.0",
            "_model_name": "HTMLModel",
            "_view_count": null,
            "_view_module": "@jupyter-widgets/controls",
            "_view_module_version": "1.5.0",
            "_view_name": "HTMLView",
            "description": "",
            "description_tooltip": null,
            "layout": "IPY_MODEL_4d9c41373e544c88a899c219bf8ecd46",
            "placeholder": "​",
            "style": "IPY_MODEL_86cf151257c740968754015b881a9f86",
            "value": " 19.9M/19.9M [00:11&lt;00:00, 1.95MB/s]"
          }
        },
        "856abb7bb08944629b1286cce0571a91": {
          "model_module": "@jupyter-widgets/base",
          "model_name": "LayoutModel",
          "model_module_version": "1.2.0",
          "state": {
            "_model_module": "@jupyter-widgets/base",
            "_model_module_version": "1.2.0",
            "_model_name": "LayoutModel",
            "_view_count": null,
            "_view_module": "@jupyter-widgets/base",
            "_view_module_version": "1.2.0",
            "_view_name": "LayoutView",
            "align_content": null,
            "align_items": null,
            "align_self": null,
            "border": null,
            "bottom": null,
            "display": null,
            "flex": null,
            "flex_flow": null,
            "grid_area": null,
            "grid_auto_columns": null,
            "grid_auto_flow": null,
            "grid_auto_rows": null,
            "grid_column": null,
            "grid_gap": null,
            "grid_row": null,
            "grid_template_areas": null,
            "grid_template_columns": null,
            "grid_template_rows": null,
            "height": null,
            "justify_content": null,
            "justify_items": null,
            "left": null,
            "margin": null,
            "max_height": null,
            "max_width": null,
            "min_height": null,
            "min_width": null,
            "object_fit": null,
            "object_position": null,
            "order": null,
            "overflow": null,
            "overflow_x": null,
            "overflow_y": null,
            "padding": null,
            "right": null,
            "top": null,
            "visibility": null,
            "width": null
          }
        },
        "86339fd481804bc9bcb6c9d8d019115c": {
          "model_module": "@jupyter-widgets/base",
          "model_name": "LayoutModel",
          "model_module_version": "1.2.0",
          "state": {
            "_model_module": "@jupyter-widgets/base",
            "_model_module_version": "1.2.0",
            "_model_name": "LayoutModel",
            "_view_count": null,
            "_view_module": "@jupyter-widgets/base",
            "_view_module_version": "1.2.0",
            "_view_name": "LayoutView",
            "align_content": null,
            "align_items": null,
            "align_self": null,
            "border": null,
            "bottom": null,
            "display": null,
            "flex": null,
            "flex_flow": null,
            "grid_area": null,
            "grid_auto_columns": null,
            "grid_auto_flow": null,
            "grid_auto_rows": null,
            "grid_column": null,
            "grid_gap": null,
            "grid_row": null,
            "grid_template_areas": null,
            "grid_template_columns": null,
            "grid_template_rows": null,
            "height": null,
            "justify_content": null,
            "justify_items": null,
            "left": null,
            "margin": null,
            "max_height": null,
            "max_width": null,
            "min_height": null,
            "min_width": null,
            "object_fit": null,
            "object_position": null,
            "order": null,
            "overflow": null,
            "overflow_x": null,
            "overflow_y": null,
            "padding": null,
            "right": null,
            "top": null,
            "visibility": null,
            "width": null
          }
        },
        "e4e73957e3444d3e84c281f953b858c0": {
          "model_module": "@jupyter-widgets/controls",
          "model_name": "DescriptionStyleModel",
          "model_module_version": "1.5.0",
          "state": {
            "_model_module": "@jupyter-widgets/controls",
            "_model_module_version": "1.5.0",
            "_model_name": "DescriptionStyleModel",
            "_view_count": null,
            "_view_module": "@jupyter-widgets/base",
            "_view_module_version": "1.2.0",
            "_view_name": "StyleView",
            "description_width": ""
          }
        },
        "6c574235477040ca81b21a898e964dfb": {
          "model_module": "@jupyter-widgets/base",
          "model_name": "LayoutModel",
          "model_module_version": "1.2.0",
          "state": {
            "_model_module": "@jupyter-widgets/base",
            "_model_module_version": "1.2.0",
            "_model_name": "LayoutModel",
            "_view_count": null,
            "_view_module": "@jupyter-widgets/base",
            "_view_module_version": "1.2.0",
            "_view_name": "LayoutView",
            "align_content": null,
            "align_items": null,
            "align_self": null,
            "border": null,
            "bottom": null,
            "display": null,
            "flex": null,
            "flex_flow": null,
            "grid_area": null,
            "grid_auto_columns": null,
            "grid_auto_flow": null,
            "grid_auto_rows": null,
            "grid_column": null,
            "grid_gap": null,
            "grid_row": null,
            "grid_template_areas": null,
            "grid_template_columns": null,
            "grid_template_rows": null,
            "height": null,
            "justify_content": null,
            "justify_items": null,
            "left": null,
            "margin": null,
            "max_height": null,
            "max_width": null,
            "min_height": null,
            "min_width": null,
            "object_fit": null,
            "object_position": null,
            "order": null,
            "overflow": null,
            "overflow_x": null,
            "overflow_y": null,
            "padding": null,
            "right": null,
            "top": null,
            "visibility": null,
            "width": null
          }
        },
        "a8d667e3f9ba4917859a483c03942cb8": {
          "model_module": "@jupyter-widgets/controls",
          "model_name": "ProgressStyleModel",
          "model_module_version": "1.5.0",
          "state": {
            "_model_module": "@jupyter-widgets/controls",
            "_model_module_version": "1.5.0",
            "_model_name": "ProgressStyleModel",
            "_view_count": null,
            "_view_module": "@jupyter-widgets/base",
            "_view_module_version": "1.2.0",
            "_view_name": "StyleView",
            "bar_color": null,
            "description_width": ""
          }
        },
        "4d9c41373e544c88a899c219bf8ecd46": {
          "model_module": "@jupyter-widgets/base",
          "model_name": "LayoutModel",
          "model_module_version": "1.2.0",
          "state": {
            "_model_module": "@jupyter-widgets/base",
            "_model_module_version": "1.2.0",
            "_model_name": "LayoutModel",
            "_view_count": null,
            "_view_module": "@jupyter-widgets/base",
            "_view_module_version": "1.2.0",
            "_view_name": "LayoutView",
            "align_content": null,
            "align_items": null,
            "align_self": null,
            "border": null,
            "bottom": null,
            "display": null,
            "flex": null,
            "flex_flow": null,
            "grid_area": null,
            "grid_auto_columns": null,
            "grid_auto_flow": null,
            "grid_auto_rows": null,
            "grid_column": null,
            "grid_gap": null,
            "grid_row": null,
            "grid_template_areas": null,
            "grid_template_columns": null,
            "grid_template_rows": null,
            "height": null,
            "justify_content": null,
            "justify_items": null,
            "left": null,
            "margin": null,
            "max_height": null,
            "max_width": null,
            "min_height": null,
            "min_width": null,
            "object_fit": null,
            "object_position": null,
            "order": null,
            "overflow": null,
            "overflow_x": null,
            "overflow_y": null,
            "padding": null,
            "right": null,
            "top": null,
            "visibility": null,
            "width": null
          }
        },
        "86cf151257c740968754015b881a9f86": {
          "model_module": "@jupyter-widgets/controls",
          "model_name": "DescriptionStyleModel",
          "model_module_version": "1.5.0",
          "state": {
            "_model_module": "@jupyter-widgets/controls",
            "_model_module_version": "1.5.0",
            "_model_name": "DescriptionStyleModel",
            "_view_count": null,
            "_view_module": "@jupyter-widgets/base",
            "_view_module_version": "1.2.0",
            "_view_name": "StyleView",
            "description_width": ""
          }
        },
        "1b307e9cb75e47bb87042fe8a31c80ad": {
          "model_module": "@jupyter-widgets/controls",
          "model_name": "HBoxModel",
          "model_module_version": "1.5.0",
          "state": {
            "_dom_classes": [],
            "_model_module": "@jupyter-widgets/controls",
            "_model_module_version": "1.5.0",
            "_model_name": "HBoxModel",
            "_view_count": null,
            "_view_module": "@jupyter-widgets/controls",
            "_view_module_version": "1.5.0",
            "_view_name": "HBoxView",
            "box_style": "",
            "children": [
              "IPY_MODEL_2b7b62046c75499abd5bf2a4fd93d430",
              "IPY_MODEL_368274126cac481cab63e84ce4df1b28",
              "IPY_MODEL_5b2bf1aab69246ab9d58e77d3296f987"
            ],
            "layout": "IPY_MODEL_f7ed73cc181a4402b23d01d4599d3b83"
          }
        },
        "2b7b62046c75499abd5bf2a4fd93d430": {
          "model_module": "@jupyter-widgets/controls",
          "model_name": "HTMLModel",
          "model_module_version": "1.5.0",
          "state": {
            "_dom_classes": [],
            "_model_module": "@jupyter-widgets/controls",
            "_model_module_version": "1.5.0",
            "_model_name": "HTMLModel",
            "_view_count": null,
            "_view_module": "@jupyter-widgets/controls",
            "_view_module_version": "1.5.0",
            "_view_name": "HTMLView",
            "description": "",
            "description_tooltip": null,
            "layout": "IPY_MODEL_443353add4f54eb6a7a3a0bee91837fb",
            "placeholder": "​",
            "style": "IPY_MODEL_ba208c77b4c74dd3ae169ce02b43c957",
            "value": "Generating train split: 100%"
          }
        },
        "368274126cac481cab63e84ce4df1b28": {
          "model_module": "@jupyter-widgets/controls",
          "model_name": "FloatProgressModel",
          "model_module_version": "1.5.0",
          "state": {
            "_dom_classes": [],
            "_model_module": "@jupyter-widgets/controls",
            "_model_module_version": "1.5.0",
            "_model_name": "FloatProgressModel",
            "_view_count": null,
            "_view_module": "@jupyter-widgets/controls",
            "_view_module_version": "1.5.0",
            "_view_name": "ProgressView",
            "bar_style": "success",
            "description": "",
            "description_tooltip": null,
            "layout": "IPY_MODEL_a2a281b91a414c4aa04b14cbf19f9ba7",
            "max": 581012,
            "min": 0,
            "orientation": "horizontal",
            "style": "IPY_MODEL_ebe3b4e0ed2c4c90af80e7bd6f329473",
            "value": 581012
          }
        },
        "5b2bf1aab69246ab9d58e77d3296f987": {
          "model_module": "@jupyter-widgets/controls",
          "model_name": "HTMLModel",
          "model_module_version": "1.5.0",
          "state": {
            "_dom_classes": [],
            "_model_module": "@jupyter-widgets/controls",
            "_model_module_version": "1.5.0",
            "_model_name": "HTMLModel",
            "_view_count": null,
            "_view_module": "@jupyter-widgets/controls",
            "_view_module_version": "1.5.0",
            "_view_name": "HTMLView",
            "description": "",
            "description_tooltip": null,
            "layout": "IPY_MODEL_51b4d5903dd34dc79348bc40dc67e780",
            "placeholder": "​",
            "style": "IPY_MODEL_0a3cb4fc4f824b02bff964f73eb27b77",
            "value": " 581012/581012 [00:04&lt;00:00, 143730.38 examples/s]"
          }
        },
        "f7ed73cc181a4402b23d01d4599d3b83": {
          "model_module": "@jupyter-widgets/base",
          "model_name": "LayoutModel",
          "model_module_version": "1.2.0",
          "state": {
            "_model_module": "@jupyter-widgets/base",
            "_model_module_version": "1.2.0",
            "_model_name": "LayoutModel",
            "_view_count": null,
            "_view_module": "@jupyter-widgets/base",
            "_view_module_version": "1.2.0",
            "_view_name": "LayoutView",
            "align_content": null,
            "align_items": null,
            "align_self": null,
            "border": null,
            "bottom": null,
            "display": null,
            "flex": null,
            "flex_flow": null,
            "grid_area": null,
            "grid_auto_columns": null,
            "grid_auto_flow": null,
            "grid_auto_rows": null,
            "grid_column": null,
            "grid_gap": null,
            "grid_row": null,
            "grid_template_areas": null,
            "grid_template_columns": null,
            "grid_template_rows": null,
            "height": null,
            "justify_content": null,
            "justify_items": null,
            "left": null,
            "margin": null,
            "max_height": null,
            "max_width": null,
            "min_height": null,
            "min_width": null,
            "object_fit": null,
            "object_position": null,
            "order": null,
            "overflow": null,
            "overflow_x": null,
            "overflow_y": null,
            "padding": null,
            "right": null,
            "top": null,
            "visibility": null,
            "width": null
          }
        },
        "443353add4f54eb6a7a3a0bee91837fb": {
          "model_module": "@jupyter-widgets/base",
          "model_name": "LayoutModel",
          "model_module_version": "1.2.0",
          "state": {
            "_model_module": "@jupyter-widgets/base",
            "_model_module_version": "1.2.0",
            "_model_name": "LayoutModel",
            "_view_count": null,
            "_view_module": "@jupyter-widgets/base",
            "_view_module_version": "1.2.0",
            "_view_name": "LayoutView",
            "align_content": null,
            "align_items": null,
            "align_self": null,
            "border": null,
            "bottom": null,
            "display": null,
            "flex": null,
            "flex_flow": null,
            "grid_area": null,
            "grid_auto_columns": null,
            "grid_auto_flow": null,
            "grid_auto_rows": null,
            "grid_column": null,
            "grid_gap": null,
            "grid_row": null,
            "grid_template_areas": null,
            "grid_template_columns": null,
            "grid_template_rows": null,
            "height": null,
            "justify_content": null,
            "justify_items": null,
            "left": null,
            "margin": null,
            "max_height": null,
            "max_width": null,
            "min_height": null,
            "min_width": null,
            "object_fit": null,
            "object_position": null,
            "order": null,
            "overflow": null,
            "overflow_x": null,
            "overflow_y": null,
            "padding": null,
            "right": null,
            "top": null,
            "visibility": null,
            "width": null
          }
        },
        "ba208c77b4c74dd3ae169ce02b43c957": {
          "model_module": "@jupyter-widgets/controls",
          "model_name": "DescriptionStyleModel",
          "model_module_version": "1.5.0",
          "state": {
            "_model_module": "@jupyter-widgets/controls",
            "_model_module_version": "1.5.0",
            "_model_name": "DescriptionStyleModel",
            "_view_count": null,
            "_view_module": "@jupyter-widgets/base",
            "_view_module_version": "1.2.0",
            "_view_name": "StyleView",
            "description_width": ""
          }
        },
        "a2a281b91a414c4aa04b14cbf19f9ba7": {
          "model_module": "@jupyter-widgets/base",
          "model_name": "LayoutModel",
          "model_module_version": "1.2.0",
          "state": {
            "_model_module": "@jupyter-widgets/base",
            "_model_module_version": "1.2.0",
            "_model_name": "LayoutModel",
            "_view_count": null,
            "_view_module": "@jupyter-widgets/base",
            "_view_module_version": "1.2.0",
            "_view_name": "LayoutView",
            "align_content": null,
            "align_items": null,
            "align_self": null,
            "border": null,
            "bottom": null,
            "display": null,
            "flex": null,
            "flex_flow": null,
            "grid_area": null,
            "grid_auto_columns": null,
            "grid_auto_flow": null,
            "grid_auto_rows": null,
            "grid_column": null,
            "grid_gap": null,
            "grid_row": null,
            "grid_template_areas": null,
            "grid_template_columns": null,
            "grid_template_rows": null,
            "height": null,
            "justify_content": null,
            "justify_items": null,
            "left": null,
            "margin": null,
            "max_height": null,
            "max_width": null,
            "min_height": null,
            "min_width": null,
            "object_fit": null,
            "object_position": null,
            "order": null,
            "overflow": null,
            "overflow_x": null,
            "overflow_y": null,
            "padding": null,
            "right": null,
            "top": null,
            "visibility": null,
            "width": null
          }
        },
        "ebe3b4e0ed2c4c90af80e7bd6f329473": {
          "model_module": "@jupyter-widgets/controls",
          "model_name": "ProgressStyleModel",
          "model_module_version": "1.5.0",
          "state": {
            "_model_module": "@jupyter-widgets/controls",
            "_model_module_version": "1.5.0",
            "_model_name": "ProgressStyleModel",
            "_view_count": null,
            "_view_module": "@jupyter-widgets/base",
            "_view_module_version": "1.2.0",
            "_view_name": "StyleView",
            "bar_color": null,
            "description_width": ""
          }
        },
        "51b4d5903dd34dc79348bc40dc67e780": {
          "model_module": "@jupyter-widgets/base",
          "model_name": "LayoutModel",
          "model_module_version": "1.2.0",
          "state": {
            "_model_module": "@jupyter-widgets/base",
            "_model_module_version": "1.2.0",
            "_model_name": "LayoutModel",
            "_view_count": null,
            "_view_module": "@jupyter-widgets/base",
            "_view_module_version": "1.2.0",
            "_view_name": "LayoutView",
            "align_content": null,
            "align_items": null,
            "align_self": null,
            "border": null,
            "bottom": null,
            "display": null,
            "flex": null,
            "flex_flow": null,
            "grid_area": null,
            "grid_auto_columns": null,
            "grid_auto_flow": null,
            "grid_auto_rows": null,
            "grid_column": null,
            "grid_gap": null,
            "grid_row": null,
            "grid_template_areas": null,
            "grid_template_columns": null,
            "grid_template_rows": null,
            "height": null,
            "justify_content": null,
            "justify_items": null,
            "left": null,
            "margin": null,
            "max_height": null,
            "max_width": null,
            "min_height": null,
            "min_width": null,
            "object_fit": null,
            "object_position": null,
            "order": null,
            "overflow": null,
            "overflow_x": null,
            "overflow_y": null,
            "padding": null,
            "right": null,
            "top": null,
            "visibility": null,
            "width": null
          }
        },
        "0a3cb4fc4f824b02bff964f73eb27b77": {
          "model_module": "@jupyter-widgets/controls",
          "model_name": "DescriptionStyleModel",
          "model_module_version": "1.5.0",
          "state": {
            "_model_module": "@jupyter-widgets/controls",
            "_model_module_version": "1.5.0",
            "_model_name": "DescriptionStyleModel",
            "_view_count": null,
            "_view_module": "@jupyter-widgets/base",
            "_view_module_version": "1.2.0",
            "_view_name": "StyleView",
            "description_width": ""
          }
        }
      }
    }
  },
  "cells": [
    {
      "cell_type": "markdown",
      "metadata": {
        "id": "view-in-github",
        "colab_type": "text"
      },
      "source": [
        "<a href=\"https://colab.research.google.com/github/JaxDoge/CS6410/blob/main/Group5Project.ipynb\" target=\"_parent\"><img src=\"https://colab.research.google.com/assets/colab-badge.svg\" alt=\"Open In Colab\"/></a>"
      ]
    },
    {
      "cell_type": "code",
      "source": [
        "!pip install --upgrade datasets\n",
        "!pip install --upgrade catboost"
      ],
      "metadata": {
        "colab": {
          "base_uri": "https://localhost:8080/"
        },
        "id": "mciV4GaAeU_b",
        "outputId": "d7a4f548-baef-44ca-fe0b-9cad99ad878a"
      },
      "execution_count": 1,
      "outputs": [
        {
          "output_type": "stream",
          "name": "stdout",
          "text": [
            "Collecting datasets\n",
            "  Downloading datasets-2.18.0-py3-none-any.whl (510 kB)\n",
            "\u001b[2K     \u001b[90m━━━━━━━━━━━━━━━━━━━━━━━━━━━━━━━━━━━━━━━━\u001b[0m \u001b[32m510.5/510.5 kB\u001b[0m \u001b[31m5.0 MB/s\u001b[0m eta \u001b[36m0:00:00\u001b[0m\n",
            "\u001b[?25hRequirement already satisfied: filelock in /usr/local/lib/python3.10/dist-packages (from datasets) (3.13.4)\n",
            "Requirement already satisfied: numpy>=1.17 in /usr/local/lib/python3.10/dist-packages (from datasets) (1.25.2)\n",
            "Requirement already satisfied: pyarrow>=12.0.0 in /usr/local/lib/python3.10/dist-packages (from datasets) (14.0.2)\n",
            "Requirement already satisfied: pyarrow-hotfix in /usr/local/lib/python3.10/dist-packages (from datasets) (0.6)\n",
            "Collecting dill<0.3.9,>=0.3.0 (from datasets)\n",
            "  Downloading dill-0.3.8-py3-none-any.whl (116 kB)\n",
            "\u001b[2K     \u001b[90m━━━━━━━━━━━━━━━━━━━━━━━━━━━━━━━━━━━━━━━━\u001b[0m \u001b[32m116.3/116.3 kB\u001b[0m \u001b[31m13.2 MB/s\u001b[0m eta \u001b[36m0:00:00\u001b[0m\n",
            "\u001b[?25hRequirement already satisfied: pandas in /usr/local/lib/python3.10/dist-packages (from datasets) (2.0.3)\n",
            "Requirement already satisfied: requests>=2.19.0 in /usr/local/lib/python3.10/dist-packages (from datasets) (2.31.0)\n",
            "Requirement already satisfied: tqdm>=4.62.1 in /usr/local/lib/python3.10/dist-packages (from datasets) (4.66.2)\n",
            "Collecting xxhash (from datasets)\n",
            "  Downloading xxhash-3.4.1-cp310-cp310-manylinux_2_17_x86_64.manylinux2014_x86_64.whl (194 kB)\n",
            "\u001b[2K     \u001b[90m━━━━━━━━━━━━━━━━━━━━━━━━━━━━━━━━━━━━━━━━\u001b[0m \u001b[32m194.1/194.1 kB\u001b[0m \u001b[31m5.4 MB/s\u001b[0m eta \u001b[36m0:00:00\u001b[0m\n",
            "\u001b[?25hCollecting multiprocess (from datasets)\n",
            "  Downloading multiprocess-0.70.16-py310-none-any.whl (134 kB)\n",
            "\u001b[2K     \u001b[90m━━━━━━━━━━━━━━━━━━━━━━━━━━━━━━━━━━━━━━━━\u001b[0m \u001b[32m134.8/134.8 kB\u001b[0m \u001b[31m7.1 MB/s\u001b[0m eta \u001b[36m0:00:00\u001b[0m\n",
            "\u001b[?25hRequirement already satisfied: fsspec[http]<=2024.2.0,>=2023.1.0 in /usr/local/lib/python3.10/dist-packages (from datasets) (2023.6.0)\n",
            "Requirement already satisfied: aiohttp in /usr/local/lib/python3.10/dist-packages (from datasets) (3.9.5)\n",
            "Requirement already satisfied: huggingface-hub>=0.19.4 in /usr/local/lib/python3.10/dist-packages (from datasets) (0.20.3)\n",
            "Requirement already satisfied: packaging in /usr/local/lib/python3.10/dist-packages (from datasets) (24.0)\n",
            "Requirement already satisfied: pyyaml>=5.1 in /usr/local/lib/python3.10/dist-packages (from datasets) (6.0.1)\n",
            "Requirement already satisfied: aiosignal>=1.1.2 in /usr/local/lib/python3.10/dist-packages (from aiohttp->datasets) (1.3.1)\n",
            "Requirement already satisfied: attrs>=17.3.0 in /usr/local/lib/python3.10/dist-packages (from aiohttp->datasets) (23.2.0)\n",
            "Requirement already satisfied: frozenlist>=1.1.1 in /usr/local/lib/python3.10/dist-packages (from aiohttp->datasets) (1.4.1)\n",
            "Requirement already satisfied: multidict<7.0,>=4.5 in /usr/local/lib/python3.10/dist-packages (from aiohttp->datasets) (6.0.5)\n",
            "Requirement already satisfied: yarl<2.0,>=1.0 in /usr/local/lib/python3.10/dist-packages (from aiohttp->datasets) (1.9.4)\n",
            "Requirement already satisfied: async-timeout<5.0,>=4.0 in /usr/local/lib/python3.10/dist-packages (from aiohttp->datasets) (4.0.3)\n",
            "Requirement already satisfied: typing-extensions>=3.7.4.3 in /usr/local/lib/python3.10/dist-packages (from huggingface-hub>=0.19.4->datasets) (4.11.0)\n",
            "Requirement already satisfied: charset-normalizer<4,>=2 in /usr/local/lib/python3.10/dist-packages (from requests>=2.19.0->datasets) (3.3.2)\n",
            "Requirement already satisfied: idna<4,>=2.5 in /usr/local/lib/python3.10/dist-packages (from requests>=2.19.0->datasets) (3.7)\n",
            "Requirement already satisfied: urllib3<3,>=1.21.1 in /usr/local/lib/python3.10/dist-packages (from requests>=2.19.0->datasets) (2.0.7)\n",
            "Requirement already satisfied: certifi>=2017.4.17 in /usr/local/lib/python3.10/dist-packages (from requests>=2.19.0->datasets) (2024.2.2)\n",
            "Requirement already satisfied: python-dateutil>=2.8.2 in /usr/local/lib/python3.10/dist-packages (from pandas->datasets) (2.8.2)\n",
            "Requirement already satisfied: pytz>=2020.1 in /usr/local/lib/python3.10/dist-packages (from pandas->datasets) (2023.4)\n",
            "Requirement already satisfied: tzdata>=2022.1 in /usr/local/lib/python3.10/dist-packages (from pandas->datasets) (2024.1)\n",
            "Requirement already satisfied: six>=1.5 in /usr/local/lib/python3.10/dist-packages (from python-dateutil>=2.8.2->pandas->datasets) (1.16.0)\n",
            "Installing collected packages: xxhash, dill, multiprocess, datasets\n",
            "Successfully installed datasets-2.18.0 dill-0.3.8 multiprocess-0.70.16 xxhash-3.4.1\n",
            "Collecting catboost\n",
            "  Downloading catboost-1.2.5-cp310-cp310-manylinux2014_x86_64.whl (98.2 MB)\n",
            "\u001b[2K     \u001b[90m━━━━━━━━━━━━━━━━━━━━━━━━━━━━━━━━━━━━━━━━\u001b[0m \u001b[32m98.2/98.2 MB\u001b[0m \u001b[31m9.3 MB/s\u001b[0m eta \u001b[36m0:00:00\u001b[0m\n",
            "\u001b[?25hRequirement already satisfied: graphviz in /usr/local/lib/python3.10/dist-packages (from catboost) (0.20.3)\n",
            "Requirement already satisfied: matplotlib in /usr/local/lib/python3.10/dist-packages (from catboost) (3.7.1)\n",
            "Requirement already satisfied: numpy>=1.16.0 in /usr/local/lib/python3.10/dist-packages (from catboost) (1.25.2)\n",
            "Requirement already satisfied: pandas>=0.24 in /usr/local/lib/python3.10/dist-packages (from catboost) (2.0.3)\n",
            "Requirement already satisfied: scipy in /usr/local/lib/python3.10/dist-packages (from catboost) (1.11.4)\n",
            "Requirement already satisfied: plotly in /usr/local/lib/python3.10/dist-packages (from catboost) (5.15.0)\n",
            "Requirement already satisfied: six in /usr/local/lib/python3.10/dist-packages (from catboost) (1.16.0)\n",
            "Requirement already satisfied: python-dateutil>=2.8.2 in /usr/local/lib/python3.10/dist-packages (from pandas>=0.24->catboost) (2.8.2)\n",
            "Requirement already satisfied: pytz>=2020.1 in /usr/local/lib/python3.10/dist-packages (from pandas>=0.24->catboost) (2023.4)\n",
            "Requirement already satisfied: tzdata>=2022.1 in /usr/local/lib/python3.10/dist-packages (from pandas>=0.24->catboost) (2024.1)\n",
            "Requirement already satisfied: contourpy>=1.0.1 in /usr/local/lib/python3.10/dist-packages (from matplotlib->catboost) (1.2.1)\n",
            "Requirement already satisfied: cycler>=0.10 in /usr/local/lib/python3.10/dist-packages (from matplotlib->catboost) (0.12.1)\n",
            "Requirement already satisfied: fonttools>=4.22.0 in /usr/local/lib/python3.10/dist-packages (from matplotlib->catboost) (4.51.0)\n",
            "Requirement already satisfied: kiwisolver>=1.0.1 in /usr/local/lib/python3.10/dist-packages (from matplotlib->catboost) (1.4.5)\n",
            "Requirement already satisfied: packaging>=20.0 in /usr/local/lib/python3.10/dist-packages (from matplotlib->catboost) (24.0)\n",
            "Requirement already satisfied: pillow>=6.2.0 in /usr/local/lib/python3.10/dist-packages (from matplotlib->catboost) (9.4.0)\n",
            "Requirement already satisfied: pyparsing>=2.3.1 in /usr/local/lib/python3.10/dist-packages (from matplotlib->catboost) (3.1.2)\n",
            "Requirement already satisfied: tenacity>=6.2.0 in /usr/local/lib/python3.10/dist-packages (from plotly->catboost) (8.2.3)\n",
            "Installing collected packages: catboost\n",
            "Successfully installed catboost-1.2.5\n"
          ]
        }
      ]
    },
    {
      "cell_type": "markdown",
      "source": [
        "Import all necessary libraries"
      ],
      "metadata": {
        "id": "D4loN50rkEE4"
      }
    },
    {
      "cell_type": "markdown",
      "source": [
        "# Loading Data"
      ],
      "metadata": {
        "id": "6URLs6dVogRx"
      }
    },
    {
      "cell_type": "code",
      "source": [
        "from datasets import load_dataset\n",
        "\n",
        "import pyarrow as pa\n",
        "import pandas as pd\n",
        "import seaborn as sns\n",
        "import numpy as np\n",
        "import matplotlib.pyplot as plt\n",
        "from joblib import Memory\n",
        "\n",
        "from imblearn.over_sampling import RandomOverSampler\n",
        "from imblearn.pipeline import Pipeline as ImbPipeline\n",
        "from tempfile import mkdtemp\n",
        "\n",
        "from sklearn.base import BaseEstimator, TransformerMixin\n",
        "from sklearn.preprocessing import StandardScaler, OneHotEncoder, FunctionTransformer, label_binarize\n",
        "from sklearn.model_selection import cross_validate, GridSearchCV, train_test_split\n",
        "from sklearn.metrics import make_scorer, precision_score, recall_score, f1_score, classification_report, confusion_matrix, accuracy_score, ConfusionMatrixDisplay, roc_auc_score\n",
        "from sklearn.linear_model import LogisticRegression\n",
        "from sklearn.compose import ColumnTransformer\n",
        "from sklearn.pipeline import Pipeline\n",
        "from sklearn.impute import SimpleImputer\n",
        "from sklearn.feature_selection import SelectFromModel\n",
        "\n",
        "from xgboost import XGBClassifier\n",
        "from catboost import CatBoostClassifier\n",
        "\n",
        "import torch"
      ],
      "metadata": {
        "id": "hIMRqer1e429"
      },
      "execution_count": 2,
      "outputs": []
    },
    {
      "cell_type": "markdown",
      "source": [
        "Import Dataset"
      ],
      "metadata": {
        "id": "nQk-gF-1kBYU"
      }
    },
    {
      "cell_type": "code",
      "execution_count": 3,
      "metadata": {
        "id": "60SPTrLRdygz",
        "colab": {
          "base_uri": "https://localhost:8080/",
          "height": 185,
          "referenced_widgets": [
            "445f35809891478789de883fa65033d7",
            "7696b4f8313647b28889a22999a0abff",
            "aac418dc297c42dda798265fcb09fb6d",
            "d1de72c6562d4d039e55912559370a31",
            "856abb7bb08944629b1286cce0571a91",
            "86339fd481804bc9bcb6c9d8d019115c",
            "e4e73957e3444d3e84c281f953b858c0",
            "6c574235477040ca81b21a898e964dfb",
            "a8d667e3f9ba4917859a483c03942cb8",
            "4d9c41373e544c88a899c219bf8ecd46",
            "86cf151257c740968754015b881a9f86",
            "1b307e9cb75e47bb87042fe8a31c80ad",
            "2b7b62046c75499abd5bf2a4fd93d430",
            "368274126cac481cab63e84ce4df1b28",
            "5b2bf1aab69246ab9d58e77d3296f987",
            "f7ed73cc181a4402b23d01d4599d3b83",
            "443353add4f54eb6a7a3a0bee91837fb",
            "ba208c77b4c74dd3ae169ce02b43c957",
            "a2a281b91a414c4aa04b14cbf19f9ba7",
            "ebe3b4e0ed2c4c90af80e7bd6f329473",
            "51b4d5903dd34dc79348bc40dc67e780",
            "0a3cb4fc4f824b02bff964f73eb27b77"
          ]
        },
        "outputId": "5ee6eb65-edb7-480c-c9c3-d9a2fbc1c392"
      },
      "outputs": [
        {
          "output_type": "stream",
          "name": "stderr",
          "text": [
            "/usr/local/lib/python3.10/dist-packages/huggingface_hub/utils/_token.py:88: UserWarning: \n",
            "The secret `HF_TOKEN` does not exist in your Colab secrets.\n",
            "To authenticate with the Hugging Face Hub, create a token in your settings tab (https://huggingface.co/settings/tokens), set it as secret in your Google Colab and restart your session.\n",
            "You will be able to reuse this secret in all of your notebooks.\n",
            "Please note that authentication is recommended but still optional to access public models or datasets.\n",
            "  warnings.warn(\n"
          ]
        },
        {
          "output_type": "display_data",
          "data": {
            "text/plain": [
              "Downloading data:   0%|          | 0.00/19.9M [00:00<?, ?B/s]"
            ],
            "application/vnd.jupyter.widget-view+json": {
              "version_major": 2,
              "version_minor": 0,
              "model_id": "445f35809891478789de883fa65033d7"
            }
          },
          "metadata": {}
        },
        {
          "output_type": "display_data",
          "data": {
            "text/plain": [
              "Generating train split:   0%|          | 0/581012 [00:00<?, ? examples/s]"
            ],
            "application/vnd.jupyter.widget-view+json": {
              "version_major": 2,
              "version_minor": 0,
              "model_id": "1b307e9cb75e47bb87042fe8a31c80ad"
            }
          },
          "metadata": {}
        }
      ],
      "source": [
        "dataset = load_dataset(\"mstz/covertype\", \"covertype\")[\"train\"]"
      ]
    },
    {
      "cell_type": "code",
      "source": [
        "seed = 123\n",
        "cv_fold = 3\n",
        "\n",
        "df_new = dataset.to_pandas()\n",
        "df_new.head()\n",
        "\n",
        "# Drop rows if responsor is missing\n",
        "df_new = df_new.dropna(subset=['cover_type'])"
      ],
      "metadata": {
        "id": "RCtsbZd5e3KA"
      },
      "execution_count": 4,
      "outputs": []
    },
    {
      "cell_type": "markdown",
      "source": [
        "Data Pre-Processing"
      ],
      "metadata": {
        "id": "RGn84C9dd4XO"
      }
    },
    {
      "cell_type": "code",
      "source": [
        "X = df_new.drop('cover_type', axis = 1)\n",
        "y = df_new['cover_type']"
      ],
      "metadata": {
        "id": "Lqn8sCVADNEJ"
      },
      "execution_count": 5,
      "outputs": []
    },
    {
      "cell_type": "code",
      "source": [
        "\n",
        "numerical_features = X.select_dtypes(include=['int64', 'float64']).columns.tolist()\n",
        "bool_features = X.select_dtypes(include=['bool']).columns.tolist()"
      ],
      "metadata": {
        "id": "aXIUWOqQEGsH"
      },
      "execution_count": 6,
      "outputs": []
    },
    {
      "cell_type": "code",
      "source": [
        "# Manually apply transformation to each boolean feature\n",
        "for column in bool_features:\n",
        "    X[column] = X[column].astype(int)"
      ],
      "metadata": {
        "id": "bKvz6fDoSoTX"
      },
      "execution_count": 7,
      "outputs": []
    },
    {
      "cell_type": "code",
      "source": [
        "X_train, X_test, y_train, y_test = train_test_split(X, y, test_size=0.99, random_state=seed)"
      ],
      "metadata": {
        "id": "jV4PgZQqSp3l"
      },
      "execution_count": 8,
      "outputs": []
    },
    {
      "cell_type": "code",
      "source": [
        "# Function to convert booleans to integers\n",
        "def bool_to_int(x):\n",
        "    return x.astype(int)"
      ],
      "metadata": {
        "id": "e4sM6t0eRdfz"
      },
      "execution_count": 9,
      "outputs": []
    },
    {
      "cell_type": "code",
      "source": [
        "# Define scorers with multi-class handling\n",
        "def multiclass_roc_auc_score(y_true, y_pred, average=\"macro\"):\n",
        "    y_true = label_binarize(y_true, classes=np.unique(y_true))\n",
        "\n",
        "    return roc_auc_score(y_true, y_pred, average=average, multi_class=\"ovr\")"
      ],
      "metadata": {
        "id": "Y4NM3ypHRjfP"
      },
      "execution_count": 10,
      "outputs": []
    },
    {
      "cell_type": "code",
      "source": [
        "# For numerical values\n",
        "numerical_transformer = Pipeline(steps=[\n",
        "    ('imputer', SimpleImputer(strategy='mean')),\n",
        "    ('scaler', StandardScaler())\n",
        "])\n",
        "\n",
        "# For Bool value\n",
        "bool_transformer = Pipeline(steps=[\n",
        "    ('bool_to_int', FunctionTransformer(bool_to_int))\n",
        "])\n",
        "\n",
        "preprocessor = ColumnTransformer(\n",
        "    transformers=[\n",
        "        ('num', numerical_transformer, numerical_features),\n",
        "        ('bool', 'passthrough', bool_features)\n",
        "    ])"
      ],
      "metadata": {
        "id": "Ud1RivUlHA8a"
      },
      "execution_count": 11,
      "outputs": []
    },
    {
      "cell_type": "code",
      "source": [
        "# Feature Selection with XGboost.\n",
        "xgb_classifier = XGBClassifier(n_estimators=100, random_state=seed)\n",
        "feature_selection = SelectFromModel(estimator=xgb_classifier, threshold='median')"
      ],
      "metadata": {
        "id": "HrBk8lBSPRgQ"
      },
      "execution_count": 12,
      "outputs": []
    },
    {
      "cell_type": "code",
      "source": [
        "\n",
        "\n",
        "roc_auc_scorer = make_scorer(multiclass_roc_auc_score, needs_proba=True, average='macro')\n",
        "\n",
        "scoring = {\n",
        "    'precision': make_scorer(precision_score, average='weighted'),\n",
        "    'recall': make_scorer(recall_score, average='weighted'),\n",
        "    'f1_score': make_scorer(f1_score, average='weighted'),\n",
        "    'roc_auc': roc_auc_scorer,\n",
        "    'accuracy': 'accuracy'\n",
        "}"
      ],
      "metadata": {
        "id": "0iJX_hluSJ7j"
      },
      "execution_count": 13,
      "outputs": []
    },
    {
      "cell_type": "markdown",
      "source": [
        "# Logistic Regression"
      ],
      "metadata": {
        "id": "ilRMZAXbQyZz"
      }
    },
    {
      "cell_type": "code",
      "source": [
        "# Create a temporary folder to store the pipeline's memory\n",
        "cachedir = mkdtemp()\n",
        "\n",
        "# Construct the final modeling pipeline with all components with data imbalance handler\n",
        "lr_pipeline = ImbPipeline([\n",
        "    ('preprocessor', preprocessor),\n",
        "    ('oversampler', RandomOverSampler(random_state=seed)),\n",
        "    ('feature_selection', feature_selection),\n",
        "    ('model', LogisticRegression(multi_class='multinomial'))\n",
        "    ], memory=Memory(cachedir, verbose=0)\n",
        ")\n",
        "lr_pipeline"
      ],
      "metadata": {
        "colab": {
          "base_uri": "https://localhost:8080/",
          "height": 362
        },
        "id": "wZs48b3qPY4b",
        "outputId": "4e04338b-a315-4e8b-9226-a871ac14a212"
      },
      "execution_count": 14,
      "outputs": [
        {
          "output_type": "execute_result",
          "data": {
            "text/plain": [
              "Pipeline(memory=Memory(location=/tmp/tmp05w0s2z9/joblib),\n",
              "         steps=[('preprocessor',\n",
              "                 ColumnTransformer(transformers=[('num',\n",
              "                                                  Pipeline(steps=[('imputer',\n",
              "                                                                   SimpleImputer()),\n",
              "                                                                  ('scaler',\n",
              "                                                                   StandardScaler())]),\n",
              "                                                  []),\n",
              "                                                 ('bool', 'passthrough',\n",
              "                                                  ['wilderness_area_id_0',\n",
              "                                                   'wilderness_area_id_1',\n",
              "                                                   'wilderness_area_id_2',\n",
              "                                                   'wilderness_area_id_3',\n",
              "                                                   'soil_type_id_0',\n",
              "                                                   'soil_type_id_1',\n",
              "                                                   'soi...\n",
              "                                                         learning_rate=None,\n",
              "                                                         max_bin=None,\n",
              "                                                         max_cat_threshold=None,\n",
              "                                                         max_cat_to_onehot=None,\n",
              "                                                         max_delta_step=None,\n",
              "                                                         max_depth=None,\n",
              "                                                         max_leaves=None,\n",
              "                                                         min_child_weight=None,\n",
              "                                                         missing=nan,\n",
              "                                                         monotone_constraints=None,\n",
              "                                                         multi_strategy=None,\n",
              "                                                         n_estimators=100,\n",
              "                                                         n_jobs=None,\n",
              "                                                         num_parallel_tree=None,\n",
              "                                                         random_state=123, ...),\n",
              "                                 threshold='median')),\n",
              "                ('model', LogisticRegression(multi_class='multinomial'))])"
            ],
            "text/html": [
              "<style>#sk-container-id-1 {color: black;background-color: white;}#sk-container-id-1 pre{padding: 0;}#sk-container-id-1 div.sk-toggleable {background-color: white;}#sk-container-id-1 label.sk-toggleable__label {cursor: pointer;display: block;width: 100%;margin-bottom: 0;padding: 0.3em;box-sizing: border-box;text-align: center;}#sk-container-id-1 label.sk-toggleable__label-arrow:before {content: \"▸\";float: left;margin-right: 0.25em;color: #696969;}#sk-container-id-1 label.sk-toggleable__label-arrow:hover:before {color: black;}#sk-container-id-1 div.sk-estimator:hover label.sk-toggleable__label-arrow:before {color: black;}#sk-container-id-1 div.sk-toggleable__content {max-height: 0;max-width: 0;overflow: hidden;text-align: left;background-color: #f0f8ff;}#sk-container-id-1 div.sk-toggleable__content pre {margin: 0.2em;color: black;border-radius: 0.25em;background-color: #f0f8ff;}#sk-container-id-1 input.sk-toggleable__control:checked~div.sk-toggleable__content {max-height: 200px;max-width: 100%;overflow: auto;}#sk-container-id-1 input.sk-toggleable__control:checked~label.sk-toggleable__label-arrow:before {content: \"▾\";}#sk-container-id-1 div.sk-estimator input.sk-toggleable__control:checked~label.sk-toggleable__label {background-color: #d4ebff;}#sk-container-id-1 div.sk-label input.sk-toggleable__control:checked~label.sk-toggleable__label {background-color: #d4ebff;}#sk-container-id-1 input.sk-hidden--visually {border: 0;clip: rect(1px 1px 1px 1px);clip: rect(1px, 1px, 1px, 1px);height: 1px;margin: -1px;overflow: hidden;padding: 0;position: absolute;width: 1px;}#sk-container-id-1 div.sk-estimator {font-family: monospace;background-color: #f0f8ff;border: 1px dotted black;border-radius: 0.25em;box-sizing: border-box;margin-bottom: 0.5em;}#sk-container-id-1 div.sk-estimator:hover {background-color: #d4ebff;}#sk-container-id-1 div.sk-parallel-item::after {content: \"\";width: 100%;border-bottom: 1px solid gray;flex-grow: 1;}#sk-container-id-1 div.sk-label:hover label.sk-toggleable__label {background-color: #d4ebff;}#sk-container-id-1 div.sk-serial::before {content: \"\";position: absolute;border-left: 1px solid gray;box-sizing: border-box;top: 0;bottom: 0;left: 50%;z-index: 0;}#sk-container-id-1 div.sk-serial {display: flex;flex-direction: column;align-items: center;background-color: white;padding-right: 0.2em;padding-left: 0.2em;position: relative;}#sk-container-id-1 div.sk-item {position: relative;z-index: 1;}#sk-container-id-1 div.sk-parallel {display: flex;align-items: stretch;justify-content: center;background-color: white;position: relative;}#sk-container-id-1 div.sk-item::before, #sk-container-id-1 div.sk-parallel-item::before {content: \"\";position: absolute;border-left: 1px solid gray;box-sizing: border-box;top: 0;bottom: 0;left: 50%;z-index: -1;}#sk-container-id-1 div.sk-parallel-item {display: flex;flex-direction: column;z-index: 1;position: relative;background-color: white;}#sk-container-id-1 div.sk-parallel-item:first-child::after {align-self: flex-end;width: 50%;}#sk-container-id-1 div.sk-parallel-item:last-child::after {align-self: flex-start;width: 50%;}#sk-container-id-1 div.sk-parallel-item:only-child::after {width: 0;}#sk-container-id-1 div.sk-dashed-wrapped {border: 1px dashed gray;margin: 0 0.4em 0.5em 0.4em;box-sizing: border-box;padding-bottom: 0.4em;background-color: white;}#sk-container-id-1 div.sk-label label {font-family: monospace;font-weight: bold;display: inline-block;line-height: 1.2em;}#sk-container-id-1 div.sk-label-container {text-align: center;}#sk-container-id-1 div.sk-container {/* jupyter's `normalize.less` sets `[hidden] { display: none; }` but bootstrap.min.css set `[hidden] { display: none !important; }` so we also need the `!important` here to be able to override the default hidden behavior on the sphinx rendered scikit-learn.org. See: https://github.com/scikit-learn/scikit-learn/issues/21755 */display: inline-block !important;position: relative;}#sk-container-id-1 div.sk-text-repr-fallback {display: none;}</style><div id=\"sk-container-id-1\" class=\"sk-top-container\"><div class=\"sk-text-repr-fallback\"><pre>Pipeline(memory=Memory(location=/tmp/tmp05w0s2z9/joblib),\n",
              "         steps=[(&#x27;preprocessor&#x27;,\n",
              "                 ColumnTransformer(transformers=[(&#x27;num&#x27;,\n",
              "                                                  Pipeline(steps=[(&#x27;imputer&#x27;,\n",
              "                                                                   SimpleImputer()),\n",
              "                                                                  (&#x27;scaler&#x27;,\n",
              "                                                                   StandardScaler())]),\n",
              "                                                  []),\n",
              "                                                 (&#x27;bool&#x27;, &#x27;passthrough&#x27;,\n",
              "                                                  [&#x27;wilderness_area_id_0&#x27;,\n",
              "                                                   &#x27;wilderness_area_id_1&#x27;,\n",
              "                                                   &#x27;wilderness_area_id_2&#x27;,\n",
              "                                                   &#x27;wilderness_area_id_3&#x27;,\n",
              "                                                   &#x27;soil_type_id_0&#x27;,\n",
              "                                                   &#x27;soil_type_id_1&#x27;,\n",
              "                                                   &#x27;soi...\n",
              "                                                         learning_rate=None,\n",
              "                                                         max_bin=None,\n",
              "                                                         max_cat_threshold=None,\n",
              "                                                         max_cat_to_onehot=None,\n",
              "                                                         max_delta_step=None,\n",
              "                                                         max_depth=None,\n",
              "                                                         max_leaves=None,\n",
              "                                                         min_child_weight=None,\n",
              "                                                         missing=nan,\n",
              "                                                         monotone_constraints=None,\n",
              "                                                         multi_strategy=None,\n",
              "                                                         n_estimators=100,\n",
              "                                                         n_jobs=None,\n",
              "                                                         num_parallel_tree=None,\n",
              "                                                         random_state=123, ...),\n",
              "                                 threshold=&#x27;median&#x27;)),\n",
              "                (&#x27;model&#x27;, LogisticRegression(multi_class=&#x27;multinomial&#x27;))])</pre><b>In a Jupyter environment, please rerun this cell to show the HTML representation or trust the notebook. <br />On GitHub, the HTML representation is unable to render, please try loading this page with nbviewer.org.</b></div><div class=\"sk-container\" hidden><div class=\"sk-item sk-dashed-wrapped\"><div class=\"sk-label-container\"><div class=\"sk-label sk-toggleable\"><input class=\"sk-toggleable__control sk-hidden--visually\" id=\"sk-estimator-id-1\" type=\"checkbox\" ><label for=\"sk-estimator-id-1\" class=\"sk-toggleable__label sk-toggleable__label-arrow\">Pipeline</label><div class=\"sk-toggleable__content\"><pre>Pipeline(memory=Memory(location=/tmp/tmp05w0s2z9/joblib),\n",
              "         steps=[(&#x27;preprocessor&#x27;,\n",
              "                 ColumnTransformer(transformers=[(&#x27;num&#x27;,\n",
              "                                                  Pipeline(steps=[(&#x27;imputer&#x27;,\n",
              "                                                                   SimpleImputer()),\n",
              "                                                                  (&#x27;scaler&#x27;,\n",
              "                                                                   StandardScaler())]),\n",
              "                                                  []),\n",
              "                                                 (&#x27;bool&#x27;, &#x27;passthrough&#x27;,\n",
              "                                                  [&#x27;wilderness_area_id_0&#x27;,\n",
              "                                                   &#x27;wilderness_area_id_1&#x27;,\n",
              "                                                   &#x27;wilderness_area_id_2&#x27;,\n",
              "                                                   &#x27;wilderness_area_id_3&#x27;,\n",
              "                                                   &#x27;soil_type_id_0&#x27;,\n",
              "                                                   &#x27;soil_type_id_1&#x27;,\n",
              "                                                   &#x27;soi...\n",
              "                                                         learning_rate=None,\n",
              "                                                         max_bin=None,\n",
              "                                                         max_cat_threshold=None,\n",
              "                                                         max_cat_to_onehot=None,\n",
              "                                                         max_delta_step=None,\n",
              "                                                         max_depth=None,\n",
              "                                                         max_leaves=None,\n",
              "                                                         min_child_weight=None,\n",
              "                                                         missing=nan,\n",
              "                                                         monotone_constraints=None,\n",
              "                                                         multi_strategy=None,\n",
              "                                                         n_estimators=100,\n",
              "                                                         n_jobs=None,\n",
              "                                                         num_parallel_tree=None,\n",
              "                                                         random_state=123, ...),\n",
              "                                 threshold=&#x27;median&#x27;)),\n",
              "                (&#x27;model&#x27;, LogisticRegression(multi_class=&#x27;multinomial&#x27;))])</pre></div></div></div><div class=\"sk-serial\"><div class=\"sk-item sk-dashed-wrapped\"><div class=\"sk-label-container\"><div class=\"sk-label sk-toggleable\"><input class=\"sk-toggleable__control sk-hidden--visually\" id=\"sk-estimator-id-2\" type=\"checkbox\" ><label for=\"sk-estimator-id-2\" class=\"sk-toggleable__label sk-toggleable__label-arrow\">preprocessor: ColumnTransformer</label><div class=\"sk-toggleable__content\"><pre>ColumnTransformer(transformers=[(&#x27;num&#x27;,\n",
              "                                 Pipeline(steps=[(&#x27;imputer&#x27;, SimpleImputer()),\n",
              "                                                 (&#x27;scaler&#x27;, StandardScaler())]),\n",
              "                                 []),\n",
              "                                (&#x27;bool&#x27;, &#x27;passthrough&#x27;,\n",
              "                                 [&#x27;wilderness_area_id_0&#x27;,\n",
              "                                  &#x27;wilderness_area_id_1&#x27;,\n",
              "                                  &#x27;wilderness_area_id_2&#x27;,\n",
              "                                  &#x27;wilderness_area_id_3&#x27;, &#x27;soil_type_id_0&#x27;,\n",
              "                                  &#x27;soil_type_id_1&#x27;, &#x27;soil_type_id_2&#x27;,\n",
              "                                  &#x27;soil_type_id_3&#x27;, &#x27;soil_type_id_4&#x27;,\n",
              "                                  &#x27;soil_type_id_5&#x27;, &#x27;soil_type_id_6&#x27;,\n",
              "                                  &#x27;soil_type_id_7&#x27;, &#x27;soil_type_id_8&#x27;,\n",
              "                                  &#x27;soil_type_id_9&#x27;, &#x27;soil_type_id_10&#x27;,\n",
              "                                  &#x27;soil_type_id_11&#x27;, &#x27;soil_type_id_12&#x27;,\n",
              "                                  &#x27;soil_type_id_13&#x27;, &#x27;soil_type_id_14&#x27;,\n",
              "                                  &#x27;soil_type_id_15&#x27;, &#x27;soil_type_id_16&#x27;,\n",
              "                                  &#x27;soil_type_id_17&#x27;, &#x27;soil_type_id_18&#x27;,\n",
              "                                  &#x27;soil_type_id_19&#x27;, &#x27;soil_type_id_20&#x27;,\n",
              "                                  &#x27;soil_type_id_21&#x27;, &#x27;soil_type_id_22&#x27;,\n",
              "                                  &#x27;soil_type_id_23&#x27;, &#x27;soil_type_id_24&#x27;,\n",
              "                                  &#x27;soil_type_id_25&#x27;, ...])])</pre></div></div></div><div class=\"sk-parallel\"><div class=\"sk-parallel-item\"><div class=\"sk-item\"><div class=\"sk-label-container\"><div class=\"sk-label sk-toggleable\"><input class=\"sk-toggleable__control sk-hidden--visually\" id=\"sk-estimator-id-3\" type=\"checkbox\" ><label for=\"sk-estimator-id-3\" class=\"sk-toggleable__label sk-toggleable__label-arrow\">num</label><div class=\"sk-toggleable__content\"><pre>[]</pre></div></div></div><div class=\"sk-serial\"><div class=\"sk-item\"><div class=\"sk-serial\"><div class=\"sk-item\"><div class=\"sk-estimator sk-toggleable\"><input class=\"sk-toggleable__control sk-hidden--visually\" id=\"sk-estimator-id-4\" type=\"checkbox\" ><label for=\"sk-estimator-id-4\" class=\"sk-toggleable__label sk-toggleable__label-arrow\">SimpleImputer</label><div class=\"sk-toggleable__content\"><pre>SimpleImputer()</pre></div></div></div><div class=\"sk-item\"><div class=\"sk-estimator sk-toggleable\"><input class=\"sk-toggleable__control sk-hidden--visually\" id=\"sk-estimator-id-5\" type=\"checkbox\" ><label for=\"sk-estimator-id-5\" class=\"sk-toggleable__label sk-toggleable__label-arrow\">StandardScaler</label><div class=\"sk-toggleable__content\"><pre>StandardScaler()</pre></div></div></div></div></div></div></div></div><div class=\"sk-parallel-item\"><div class=\"sk-item\"><div class=\"sk-label-container\"><div class=\"sk-label sk-toggleable\"><input class=\"sk-toggleable__control sk-hidden--visually\" id=\"sk-estimator-id-6\" type=\"checkbox\" ><label for=\"sk-estimator-id-6\" class=\"sk-toggleable__label sk-toggleable__label-arrow\">bool</label><div class=\"sk-toggleable__content\"><pre>[&#x27;wilderness_area_id_0&#x27;, &#x27;wilderness_area_id_1&#x27;, &#x27;wilderness_area_id_2&#x27;, &#x27;wilderness_area_id_3&#x27;, &#x27;soil_type_id_0&#x27;, &#x27;soil_type_id_1&#x27;, &#x27;soil_type_id_2&#x27;, &#x27;soil_type_id_3&#x27;, &#x27;soil_type_id_4&#x27;, &#x27;soil_type_id_5&#x27;, &#x27;soil_type_id_6&#x27;, &#x27;soil_type_id_7&#x27;, &#x27;soil_type_id_8&#x27;, &#x27;soil_type_id_9&#x27;, &#x27;soil_type_id_10&#x27;, &#x27;soil_type_id_11&#x27;, &#x27;soil_type_id_12&#x27;, &#x27;soil_type_id_13&#x27;, &#x27;soil_type_id_14&#x27;, &#x27;soil_type_id_15&#x27;, &#x27;soil_type_id_16&#x27;, &#x27;soil_type_id_17&#x27;, &#x27;soil_type_id_18&#x27;, &#x27;soil_type_id_19&#x27;, &#x27;soil_type_id_20&#x27;, &#x27;soil_type_id_21&#x27;, &#x27;soil_type_id_22&#x27;, &#x27;soil_type_id_23&#x27;, &#x27;soil_type_id_24&#x27;, &#x27;soil_type_id_25&#x27;, &#x27;soil_type_id_26&#x27;, &#x27;soil_type_id_27&#x27;, &#x27;soil_type_id_28&#x27;, &#x27;soil_type_id_29&#x27;, &#x27;soil_type_id_30&#x27;, &#x27;soil_type_id_31&#x27;, &#x27;soil_type_id_32&#x27;, &#x27;soil_type_id_33&#x27;, &#x27;soil_type_id_34&#x27;, &#x27;soil_type_id_35&#x27;, &#x27;soil_type_id_36&#x27;, &#x27;soil_type_id_37&#x27;, &#x27;soil_type_id_38&#x27;, &#x27;soil_type_id_39&#x27;]</pre></div></div></div><div class=\"sk-serial\"><div class=\"sk-item\"><div class=\"sk-estimator sk-toggleable\"><input class=\"sk-toggleable__control sk-hidden--visually\" id=\"sk-estimator-id-7\" type=\"checkbox\" ><label for=\"sk-estimator-id-7\" class=\"sk-toggleable__label sk-toggleable__label-arrow\">passthrough</label><div class=\"sk-toggleable__content\"><pre>passthrough</pre></div></div></div></div></div></div></div></div><div class=\"sk-item\"><div class=\"sk-estimator sk-toggleable\"><input class=\"sk-toggleable__control sk-hidden--visually\" id=\"sk-estimator-id-8\" type=\"checkbox\" ><label for=\"sk-estimator-id-8\" class=\"sk-toggleable__label sk-toggleable__label-arrow\">RandomOverSampler</label><div class=\"sk-toggleable__content\"><pre>RandomOverSampler(random_state=123)</pre></div></div></div><div class=\"sk-item sk-dashed-wrapped\"><div class=\"sk-label-container\"><div class=\"sk-label sk-toggleable\"><input class=\"sk-toggleable__control sk-hidden--visually\" id=\"sk-estimator-id-9\" type=\"checkbox\" ><label for=\"sk-estimator-id-9\" class=\"sk-toggleable__label sk-toggleable__label-arrow\">feature_selection: SelectFromModel</label><div class=\"sk-toggleable__content\"><pre>SelectFromModel(estimator=XGBClassifier(base_score=None, booster=None,\n",
              "                                        callbacks=None, colsample_bylevel=None,\n",
              "                                        colsample_bynode=None,\n",
              "                                        colsample_bytree=None, device=None,\n",
              "                                        early_stopping_rounds=None,\n",
              "                                        enable_categorical=False,\n",
              "                                        eval_metric=None, feature_types=None,\n",
              "                                        gamma=None, grow_policy=None,\n",
              "                                        importance_type=None,\n",
              "                                        interaction_constraints=None,\n",
              "                                        learning_rate=None, max_bin=None,\n",
              "                                        max_cat_threshold=None,\n",
              "                                        max_cat_to_onehot=None,\n",
              "                                        max_delta_step=None, max_depth=None,\n",
              "                                        max_leaves=None, min_child_weight=None,\n",
              "                                        missing=nan, monotone_constraints=None,\n",
              "                                        multi_strategy=None, n_estimators=100,\n",
              "                                        n_jobs=None, num_parallel_tree=None,\n",
              "                                        random_state=123, ...),\n",
              "                threshold=&#x27;median&#x27;)</pre></div></div></div><div class=\"sk-parallel\"><div class=\"sk-parallel-item\"><div class=\"sk-item\"><div class=\"sk-label-container\"><div class=\"sk-label sk-toggleable\"><input class=\"sk-toggleable__control sk-hidden--visually\" id=\"sk-estimator-id-10\" type=\"checkbox\" ><label for=\"sk-estimator-id-10\" class=\"sk-toggleable__label sk-toggleable__label-arrow\">estimator: XGBClassifier</label><div class=\"sk-toggleable__content\"><pre>XGBClassifier(base_score=None, booster=None, callbacks=None,\n",
              "              colsample_bylevel=None, colsample_bynode=None,\n",
              "              colsample_bytree=None, device=None, early_stopping_rounds=None,\n",
              "              enable_categorical=False, eval_metric=None, feature_types=None,\n",
              "              gamma=None, grow_policy=None, importance_type=None,\n",
              "              interaction_constraints=None, learning_rate=None, max_bin=None,\n",
              "              max_cat_threshold=None, max_cat_to_onehot=None,\n",
              "              max_delta_step=None, max_depth=None, max_leaves=None,\n",
              "              min_child_weight=None, missing=nan, monotone_constraints=None,\n",
              "              multi_strategy=None, n_estimators=100, n_jobs=None,\n",
              "              num_parallel_tree=None, random_state=123, ...)</pre></div></div></div><div class=\"sk-serial\"><div class=\"sk-item\"><div class=\"sk-estimator sk-toggleable\"><input class=\"sk-toggleable__control sk-hidden--visually\" id=\"sk-estimator-id-11\" type=\"checkbox\" ><label for=\"sk-estimator-id-11\" class=\"sk-toggleable__label sk-toggleable__label-arrow\">XGBClassifier</label><div class=\"sk-toggleable__content\"><pre>XGBClassifier(base_score=None, booster=None, callbacks=None,\n",
              "              colsample_bylevel=None, colsample_bynode=None,\n",
              "              colsample_bytree=None, device=None, early_stopping_rounds=None,\n",
              "              enable_categorical=False, eval_metric=None, feature_types=None,\n",
              "              gamma=None, grow_policy=None, importance_type=None,\n",
              "              interaction_constraints=None, learning_rate=None, max_bin=None,\n",
              "              max_cat_threshold=None, max_cat_to_onehot=None,\n",
              "              max_delta_step=None, max_depth=None, max_leaves=None,\n",
              "              min_child_weight=None, missing=nan, monotone_constraints=None,\n",
              "              multi_strategy=None, n_estimators=100, n_jobs=None,\n",
              "              num_parallel_tree=None, random_state=123, ...)</pre></div></div></div></div></div></div></div></div><div class=\"sk-item\"><div class=\"sk-estimator sk-toggleable\"><input class=\"sk-toggleable__control sk-hidden--visually\" id=\"sk-estimator-id-12\" type=\"checkbox\" ><label for=\"sk-estimator-id-12\" class=\"sk-toggleable__label sk-toggleable__label-arrow\">LogisticRegression</label><div class=\"sk-toggleable__content\"><pre>LogisticRegression(multi_class=&#x27;multinomial&#x27;)</pre></div></div></div></div></div></div></div>"
            ]
          },
          "metadata": {},
          "execution_count": 14
        }
      ]
    },
    {
      "cell_type": "code",
      "source": [
        "# Perform cross-validation with parameter tuning\n",
        "# Define the parameter grid\n",
        "param_grid = {\n",
        "    'model__C': [0.1, 0.2],\n",
        "    'model__solver': ['sag']\n",
        "}\n",
        "\n",
        "grid_search = GridSearchCV(lr_pipeline, param_grid, cv=cv_fold, scoring=scoring, refit='recall')\n",
        "grid_search.fit(X_train, y_train)\n",
        "\n",
        "print(\"Best parameters found: \", grid_search.best_params_)\n",
        "print(\"Best Recall score found: \", grid_search.best_score_)"
      ],
      "metadata": {
        "colab": {
          "base_uri": "https://localhost:8080/"
        },
        "id": "Dg83vPbpeOVB",
        "outputId": "0d445458-f2bf-4317-f85e-25cbc72c27c7"
      },
      "execution_count": 15,
      "outputs": [
        {
          "output_type": "stream",
          "name": "stdout",
          "text": [
            "Best parameters found:  {'model__C': 0.1, 'model__solver': 'sag'}\n",
            "Best Recall score found:  0.49553017147587014\n"
          ]
        }
      ]
    },
    {
      "cell_type": "code",
      "source": [
        "# Test on test data set\n",
        "best_pipeline = grid_search.best_estimator_\n",
        "\n",
        "predictions = best_pipeline.predict(X_test)\n",
        "y_proba = best_pipeline.predict_proba(X_test)\n",
        "\n",
        "# Evaluate the predictions\n",
        "precision = precision_score(y_test, predictions, average='weighted')\n",
        "recall = recall_score(y_test, predictions, average='weighted')\n",
        "f1 = f1_score(y_test, predictions, average='weighted')\n",
        "roc = roc_auc_score(label_binarize(y_test, classes=np.unique(y_train)), y_proba, multi_class='ovr', average='macro')\n",
        "accuracy = accuracy_score(y_test, predictions)\n",
        "\n",
        "# Print the evaluation metrics\n",
        "print(\"Accuracy:\", accuracy)\n",
        "print(\"Precision:\", precision)\n",
        "print(\"Recall:\", recall)\n",
        "print(\"F1 Score:\", f1)\n",
        "print(\"ROC:\", roc)"
      ],
      "metadata": {
        "colab": {
          "base_uri": "https://localhost:8080/"
        },
        "id": "P1c8Oy8EJfrK",
        "outputId": "9c798721-4166-445f-8297-8d1c73e3e9dc"
      },
      "execution_count": 16,
      "outputs": [
        {
          "output_type": "stream",
          "name": "stdout",
          "text": [
            "Accuracy: 0.5221539563492478\n",
            "Precision: 0.5810465339303259\n",
            "Recall: 0.5221539563492478\n",
            "F1 Score: 0.5404030153700666\n",
            "ROC: 0.8504223980264188\n"
          ]
        }
      ]
    },
    {
      "cell_type": "markdown",
      "source": [
        "# XGBoost Tree"
      ],
      "metadata": {
        "id": "V0Z60wUgC8wN"
      }
    },
    {
      "cell_type": "code",
      "source": [
        "# Switch the model in the pipeline\n",
        "xgb_pipeline = lr_pipeline\n",
        "xgb_pipeline.set_params(model=XGBClassifier(use_label_encoder=False))"
      ],
      "metadata": {
        "colab": {
          "base_uri": "https://localhost:8080/",
          "height": 362
        },
        "id": "PXzMrzaSDckV",
        "outputId": "3a674f82-9042-467f-9968-0368814089dd"
      },
      "execution_count": 17,
      "outputs": [
        {
          "output_type": "execute_result",
          "data": {
            "text/plain": [
              "Pipeline(memory=Memory(location=/tmp/tmp05w0s2z9/joblib),\n",
              "         steps=[('preprocessor',\n",
              "                 ColumnTransformer(transformers=[('num',\n",
              "                                                  Pipeline(steps=[('imputer',\n",
              "                                                                   SimpleImputer()),\n",
              "                                                                  ('scaler',\n",
              "                                                                   StandardScaler())]),\n",
              "                                                  []),\n",
              "                                                 ('bool', 'passthrough',\n",
              "                                                  ['wilderness_area_id_0',\n",
              "                                                   'wilderness_area_id_1',\n",
              "                                                   'wilderness_area_id_2',\n",
              "                                                   'wilderness_area_id_3',\n",
              "                                                   'soil_type_id_0',\n",
              "                                                   'soil_type_id_1',\n",
              "                                                   'soi...\n",
              "                               feature_types=None, gamma=None, grow_policy=None,\n",
              "                               importance_type=None,\n",
              "                               interaction_constraints=None, learning_rate=None,\n",
              "                               max_bin=None, max_cat_threshold=None,\n",
              "                               max_cat_to_onehot=None, max_delta_step=None,\n",
              "                               max_depth=None, max_leaves=None,\n",
              "                               min_child_weight=None, missing=nan,\n",
              "                               monotone_constraints=None, multi_strategy=None,\n",
              "                               n_estimators=None, n_jobs=None,\n",
              "                               num_parallel_tree=None, random_state=None, ...))])"
            ],
            "text/html": [
              "<style>#sk-container-id-2 {color: black;background-color: white;}#sk-container-id-2 pre{padding: 0;}#sk-container-id-2 div.sk-toggleable {background-color: white;}#sk-container-id-2 label.sk-toggleable__label {cursor: pointer;display: block;width: 100%;margin-bottom: 0;padding: 0.3em;box-sizing: border-box;text-align: center;}#sk-container-id-2 label.sk-toggleable__label-arrow:before {content: \"▸\";float: left;margin-right: 0.25em;color: #696969;}#sk-container-id-2 label.sk-toggleable__label-arrow:hover:before {color: black;}#sk-container-id-2 div.sk-estimator:hover label.sk-toggleable__label-arrow:before {color: black;}#sk-container-id-2 div.sk-toggleable__content {max-height: 0;max-width: 0;overflow: hidden;text-align: left;background-color: #f0f8ff;}#sk-container-id-2 div.sk-toggleable__content pre {margin: 0.2em;color: black;border-radius: 0.25em;background-color: #f0f8ff;}#sk-container-id-2 input.sk-toggleable__control:checked~div.sk-toggleable__content {max-height: 200px;max-width: 100%;overflow: auto;}#sk-container-id-2 input.sk-toggleable__control:checked~label.sk-toggleable__label-arrow:before {content: \"▾\";}#sk-container-id-2 div.sk-estimator input.sk-toggleable__control:checked~label.sk-toggleable__label {background-color: #d4ebff;}#sk-container-id-2 div.sk-label input.sk-toggleable__control:checked~label.sk-toggleable__label {background-color: #d4ebff;}#sk-container-id-2 input.sk-hidden--visually {border: 0;clip: rect(1px 1px 1px 1px);clip: rect(1px, 1px, 1px, 1px);height: 1px;margin: -1px;overflow: hidden;padding: 0;position: absolute;width: 1px;}#sk-container-id-2 div.sk-estimator {font-family: monospace;background-color: #f0f8ff;border: 1px dotted black;border-radius: 0.25em;box-sizing: border-box;margin-bottom: 0.5em;}#sk-container-id-2 div.sk-estimator:hover {background-color: #d4ebff;}#sk-container-id-2 div.sk-parallel-item::after {content: \"\";width: 100%;border-bottom: 1px solid gray;flex-grow: 1;}#sk-container-id-2 div.sk-label:hover label.sk-toggleable__label {background-color: #d4ebff;}#sk-container-id-2 div.sk-serial::before {content: \"\";position: absolute;border-left: 1px solid gray;box-sizing: border-box;top: 0;bottom: 0;left: 50%;z-index: 0;}#sk-container-id-2 div.sk-serial {display: flex;flex-direction: column;align-items: center;background-color: white;padding-right: 0.2em;padding-left: 0.2em;position: relative;}#sk-container-id-2 div.sk-item {position: relative;z-index: 1;}#sk-container-id-2 div.sk-parallel {display: flex;align-items: stretch;justify-content: center;background-color: white;position: relative;}#sk-container-id-2 div.sk-item::before, #sk-container-id-2 div.sk-parallel-item::before {content: \"\";position: absolute;border-left: 1px solid gray;box-sizing: border-box;top: 0;bottom: 0;left: 50%;z-index: -1;}#sk-container-id-2 div.sk-parallel-item {display: flex;flex-direction: column;z-index: 1;position: relative;background-color: white;}#sk-container-id-2 div.sk-parallel-item:first-child::after {align-self: flex-end;width: 50%;}#sk-container-id-2 div.sk-parallel-item:last-child::after {align-self: flex-start;width: 50%;}#sk-container-id-2 div.sk-parallel-item:only-child::after {width: 0;}#sk-container-id-2 div.sk-dashed-wrapped {border: 1px dashed gray;margin: 0 0.4em 0.5em 0.4em;box-sizing: border-box;padding-bottom: 0.4em;background-color: white;}#sk-container-id-2 div.sk-label label {font-family: monospace;font-weight: bold;display: inline-block;line-height: 1.2em;}#sk-container-id-2 div.sk-label-container {text-align: center;}#sk-container-id-2 div.sk-container {/* jupyter's `normalize.less` sets `[hidden] { display: none; }` but bootstrap.min.css set `[hidden] { display: none !important; }` so we also need the `!important` here to be able to override the default hidden behavior on the sphinx rendered scikit-learn.org. See: https://github.com/scikit-learn/scikit-learn/issues/21755 */display: inline-block !important;position: relative;}#sk-container-id-2 div.sk-text-repr-fallback {display: none;}</style><div id=\"sk-container-id-2\" class=\"sk-top-container\"><div class=\"sk-text-repr-fallback\"><pre>Pipeline(memory=Memory(location=/tmp/tmp05w0s2z9/joblib),\n",
              "         steps=[(&#x27;preprocessor&#x27;,\n",
              "                 ColumnTransformer(transformers=[(&#x27;num&#x27;,\n",
              "                                                  Pipeline(steps=[(&#x27;imputer&#x27;,\n",
              "                                                                   SimpleImputer()),\n",
              "                                                                  (&#x27;scaler&#x27;,\n",
              "                                                                   StandardScaler())]),\n",
              "                                                  []),\n",
              "                                                 (&#x27;bool&#x27;, &#x27;passthrough&#x27;,\n",
              "                                                  [&#x27;wilderness_area_id_0&#x27;,\n",
              "                                                   &#x27;wilderness_area_id_1&#x27;,\n",
              "                                                   &#x27;wilderness_area_id_2&#x27;,\n",
              "                                                   &#x27;wilderness_area_id_3&#x27;,\n",
              "                                                   &#x27;soil_type_id_0&#x27;,\n",
              "                                                   &#x27;soil_type_id_1&#x27;,\n",
              "                                                   &#x27;soi...\n",
              "                               feature_types=None, gamma=None, grow_policy=None,\n",
              "                               importance_type=None,\n",
              "                               interaction_constraints=None, learning_rate=None,\n",
              "                               max_bin=None, max_cat_threshold=None,\n",
              "                               max_cat_to_onehot=None, max_delta_step=None,\n",
              "                               max_depth=None, max_leaves=None,\n",
              "                               min_child_weight=None, missing=nan,\n",
              "                               monotone_constraints=None, multi_strategy=None,\n",
              "                               n_estimators=None, n_jobs=None,\n",
              "                               num_parallel_tree=None, random_state=None, ...))])</pre><b>In a Jupyter environment, please rerun this cell to show the HTML representation or trust the notebook. <br />On GitHub, the HTML representation is unable to render, please try loading this page with nbviewer.org.</b></div><div class=\"sk-container\" hidden><div class=\"sk-item sk-dashed-wrapped\"><div class=\"sk-label-container\"><div class=\"sk-label sk-toggleable\"><input class=\"sk-toggleable__control sk-hidden--visually\" id=\"sk-estimator-id-13\" type=\"checkbox\" ><label for=\"sk-estimator-id-13\" class=\"sk-toggleable__label sk-toggleable__label-arrow\">Pipeline</label><div class=\"sk-toggleable__content\"><pre>Pipeline(memory=Memory(location=/tmp/tmp05w0s2z9/joblib),\n",
              "         steps=[(&#x27;preprocessor&#x27;,\n",
              "                 ColumnTransformer(transformers=[(&#x27;num&#x27;,\n",
              "                                                  Pipeline(steps=[(&#x27;imputer&#x27;,\n",
              "                                                                   SimpleImputer()),\n",
              "                                                                  (&#x27;scaler&#x27;,\n",
              "                                                                   StandardScaler())]),\n",
              "                                                  []),\n",
              "                                                 (&#x27;bool&#x27;, &#x27;passthrough&#x27;,\n",
              "                                                  [&#x27;wilderness_area_id_0&#x27;,\n",
              "                                                   &#x27;wilderness_area_id_1&#x27;,\n",
              "                                                   &#x27;wilderness_area_id_2&#x27;,\n",
              "                                                   &#x27;wilderness_area_id_3&#x27;,\n",
              "                                                   &#x27;soil_type_id_0&#x27;,\n",
              "                                                   &#x27;soil_type_id_1&#x27;,\n",
              "                                                   &#x27;soi...\n",
              "                               feature_types=None, gamma=None, grow_policy=None,\n",
              "                               importance_type=None,\n",
              "                               interaction_constraints=None, learning_rate=None,\n",
              "                               max_bin=None, max_cat_threshold=None,\n",
              "                               max_cat_to_onehot=None, max_delta_step=None,\n",
              "                               max_depth=None, max_leaves=None,\n",
              "                               min_child_weight=None, missing=nan,\n",
              "                               monotone_constraints=None, multi_strategy=None,\n",
              "                               n_estimators=None, n_jobs=None,\n",
              "                               num_parallel_tree=None, random_state=None, ...))])</pre></div></div></div><div class=\"sk-serial\"><div class=\"sk-item sk-dashed-wrapped\"><div class=\"sk-label-container\"><div class=\"sk-label sk-toggleable\"><input class=\"sk-toggleable__control sk-hidden--visually\" id=\"sk-estimator-id-14\" type=\"checkbox\" ><label for=\"sk-estimator-id-14\" class=\"sk-toggleable__label sk-toggleable__label-arrow\">preprocessor: ColumnTransformer</label><div class=\"sk-toggleable__content\"><pre>ColumnTransformer(transformers=[(&#x27;num&#x27;,\n",
              "                                 Pipeline(steps=[(&#x27;imputer&#x27;, SimpleImputer()),\n",
              "                                                 (&#x27;scaler&#x27;, StandardScaler())]),\n",
              "                                 []),\n",
              "                                (&#x27;bool&#x27;, &#x27;passthrough&#x27;,\n",
              "                                 [&#x27;wilderness_area_id_0&#x27;,\n",
              "                                  &#x27;wilderness_area_id_1&#x27;,\n",
              "                                  &#x27;wilderness_area_id_2&#x27;,\n",
              "                                  &#x27;wilderness_area_id_3&#x27;, &#x27;soil_type_id_0&#x27;,\n",
              "                                  &#x27;soil_type_id_1&#x27;, &#x27;soil_type_id_2&#x27;,\n",
              "                                  &#x27;soil_type_id_3&#x27;, &#x27;soil_type_id_4&#x27;,\n",
              "                                  &#x27;soil_type_id_5&#x27;, &#x27;soil_type_id_6&#x27;,\n",
              "                                  &#x27;soil_type_id_7&#x27;, &#x27;soil_type_id_8&#x27;,\n",
              "                                  &#x27;soil_type_id_9&#x27;, &#x27;soil_type_id_10&#x27;,\n",
              "                                  &#x27;soil_type_id_11&#x27;, &#x27;soil_type_id_12&#x27;,\n",
              "                                  &#x27;soil_type_id_13&#x27;, &#x27;soil_type_id_14&#x27;,\n",
              "                                  &#x27;soil_type_id_15&#x27;, &#x27;soil_type_id_16&#x27;,\n",
              "                                  &#x27;soil_type_id_17&#x27;, &#x27;soil_type_id_18&#x27;,\n",
              "                                  &#x27;soil_type_id_19&#x27;, &#x27;soil_type_id_20&#x27;,\n",
              "                                  &#x27;soil_type_id_21&#x27;, &#x27;soil_type_id_22&#x27;,\n",
              "                                  &#x27;soil_type_id_23&#x27;, &#x27;soil_type_id_24&#x27;,\n",
              "                                  &#x27;soil_type_id_25&#x27;, ...])])</pre></div></div></div><div class=\"sk-parallel\"><div class=\"sk-parallel-item\"><div class=\"sk-item\"><div class=\"sk-label-container\"><div class=\"sk-label sk-toggleable\"><input class=\"sk-toggleable__control sk-hidden--visually\" id=\"sk-estimator-id-15\" type=\"checkbox\" ><label for=\"sk-estimator-id-15\" class=\"sk-toggleable__label sk-toggleable__label-arrow\">num</label><div class=\"sk-toggleable__content\"><pre>[]</pre></div></div></div><div class=\"sk-serial\"><div class=\"sk-item\"><div class=\"sk-serial\"><div class=\"sk-item\"><div class=\"sk-estimator sk-toggleable\"><input class=\"sk-toggleable__control sk-hidden--visually\" id=\"sk-estimator-id-16\" type=\"checkbox\" ><label for=\"sk-estimator-id-16\" class=\"sk-toggleable__label sk-toggleable__label-arrow\">SimpleImputer</label><div class=\"sk-toggleable__content\"><pre>SimpleImputer()</pre></div></div></div><div class=\"sk-item\"><div class=\"sk-estimator sk-toggleable\"><input class=\"sk-toggleable__control sk-hidden--visually\" id=\"sk-estimator-id-17\" type=\"checkbox\" ><label for=\"sk-estimator-id-17\" class=\"sk-toggleable__label sk-toggleable__label-arrow\">StandardScaler</label><div class=\"sk-toggleable__content\"><pre>StandardScaler()</pre></div></div></div></div></div></div></div></div><div class=\"sk-parallel-item\"><div class=\"sk-item\"><div class=\"sk-label-container\"><div class=\"sk-label sk-toggleable\"><input class=\"sk-toggleable__control sk-hidden--visually\" id=\"sk-estimator-id-18\" type=\"checkbox\" ><label for=\"sk-estimator-id-18\" class=\"sk-toggleable__label sk-toggleable__label-arrow\">bool</label><div class=\"sk-toggleable__content\"><pre>[&#x27;wilderness_area_id_0&#x27;, &#x27;wilderness_area_id_1&#x27;, &#x27;wilderness_area_id_2&#x27;, &#x27;wilderness_area_id_3&#x27;, &#x27;soil_type_id_0&#x27;, &#x27;soil_type_id_1&#x27;, &#x27;soil_type_id_2&#x27;, &#x27;soil_type_id_3&#x27;, &#x27;soil_type_id_4&#x27;, &#x27;soil_type_id_5&#x27;, &#x27;soil_type_id_6&#x27;, &#x27;soil_type_id_7&#x27;, &#x27;soil_type_id_8&#x27;, &#x27;soil_type_id_9&#x27;, &#x27;soil_type_id_10&#x27;, &#x27;soil_type_id_11&#x27;, &#x27;soil_type_id_12&#x27;, &#x27;soil_type_id_13&#x27;, &#x27;soil_type_id_14&#x27;, &#x27;soil_type_id_15&#x27;, &#x27;soil_type_id_16&#x27;, &#x27;soil_type_id_17&#x27;, &#x27;soil_type_id_18&#x27;, &#x27;soil_type_id_19&#x27;, &#x27;soil_type_id_20&#x27;, &#x27;soil_type_id_21&#x27;, &#x27;soil_type_id_22&#x27;, &#x27;soil_type_id_23&#x27;, &#x27;soil_type_id_24&#x27;, &#x27;soil_type_id_25&#x27;, &#x27;soil_type_id_26&#x27;, &#x27;soil_type_id_27&#x27;, &#x27;soil_type_id_28&#x27;, &#x27;soil_type_id_29&#x27;, &#x27;soil_type_id_30&#x27;, &#x27;soil_type_id_31&#x27;, &#x27;soil_type_id_32&#x27;, &#x27;soil_type_id_33&#x27;, &#x27;soil_type_id_34&#x27;, &#x27;soil_type_id_35&#x27;, &#x27;soil_type_id_36&#x27;, &#x27;soil_type_id_37&#x27;, &#x27;soil_type_id_38&#x27;, &#x27;soil_type_id_39&#x27;]</pre></div></div></div><div class=\"sk-serial\"><div class=\"sk-item\"><div class=\"sk-estimator sk-toggleable\"><input class=\"sk-toggleable__control sk-hidden--visually\" id=\"sk-estimator-id-19\" type=\"checkbox\" ><label for=\"sk-estimator-id-19\" class=\"sk-toggleable__label sk-toggleable__label-arrow\">passthrough</label><div class=\"sk-toggleable__content\"><pre>passthrough</pre></div></div></div></div></div></div></div></div><div class=\"sk-item\"><div class=\"sk-estimator sk-toggleable\"><input class=\"sk-toggleable__control sk-hidden--visually\" id=\"sk-estimator-id-20\" type=\"checkbox\" ><label for=\"sk-estimator-id-20\" class=\"sk-toggleable__label sk-toggleable__label-arrow\">RandomOverSampler</label><div class=\"sk-toggleable__content\"><pre>RandomOverSampler(random_state=123)</pre></div></div></div><div class=\"sk-item sk-dashed-wrapped\"><div class=\"sk-label-container\"><div class=\"sk-label sk-toggleable\"><input class=\"sk-toggleable__control sk-hidden--visually\" id=\"sk-estimator-id-21\" type=\"checkbox\" ><label for=\"sk-estimator-id-21\" class=\"sk-toggleable__label sk-toggleable__label-arrow\">feature_selection: SelectFromModel</label><div class=\"sk-toggleable__content\"><pre>SelectFromModel(estimator=XGBClassifier(base_score=None, booster=None,\n",
              "                                        callbacks=None, colsample_bylevel=None,\n",
              "                                        colsample_bynode=None,\n",
              "                                        colsample_bytree=None, device=None,\n",
              "                                        early_stopping_rounds=None,\n",
              "                                        enable_categorical=False,\n",
              "                                        eval_metric=None, feature_types=None,\n",
              "                                        gamma=None, grow_policy=None,\n",
              "                                        importance_type=None,\n",
              "                                        interaction_constraints=None,\n",
              "                                        learning_rate=None, max_bin=None,\n",
              "                                        max_cat_threshold=None,\n",
              "                                        max_cat_to_onehot=None,\n",
              "                                        max_delta_step=None, max_depth=None,\n",
              "                                        max_leaves=None, min_child_weight=None,\n",
              "                                        missing=nan, monotone_constraints=None,\n",
              "                                        multi_strategy=None, n_estimators=100,\n",
              "                                        n_jobs=None, num_parallel_tree=None,\n",
              "                                        random_state=123, ...),\n",
              "                threshold=&#x27;median&#x27;)</pre></div></div></div><div class=\"sk-parallel\"><div class=\"sk-parallel-item\"><div class=\"sk-item\"><div class=\"sk-label-container\"><div class=\"sk-label sk-toggleable\"><input class=\"sk-toggleable__control sk-hidden--visually\" id=\"sk-estimator-id-22\" type=\"checkbox\" ><label for=\"sk-estimator-id-22\" class=\"sk-toggleable__label sk-toggleable__label-arrow\">estimator: XGBClassifier</label><div class=\"sk-toggleable__content\"><pre>XGBClassifier(base_score=None, booster=None, callbacks=None,\n",
              "              colsample_bylevel=None, colsample_bynode=None,\n",
              "              colsample_bytree=None, device=None, early_stopping_rounds=None,\n",
              "              enable_categorical=False, eval_metric=None, feature_types=None,\n",
              "              gamma=None, grow_policy=None, importance_type=None,\n",
              "              interaction_constraints=None, learning_rate=None, max_bin=None,\n",
              "              max_cat_threshold=None, max_cat_to_onehot=None,\n",
              "              max_delta_step=None, max_depth=None, max_leaves=None,\n",
              "              min_child_weight=None, missing=nan, monotone_constraints=None,\n",
              "              multi_strategy=None, n_estimators=100, n_jobs=None,\n",
              "              num_parallel_tree=None, random_state=123, ...)</pre></div></div></div><div class=\"sk-serial\"><div class=\"sk-item\"><div class=\"sk-estimator sk-toggleable\"><input class=\"sk-toggleable__control sk-hidden--visually\" id=\"sk-estimator-id-23\" type=\"checkbox\" ><label for=\"sk-estimator-id-23\" class=\"sk-toggleable__label sk-toggleable__label-arrow\">XGBClassifier</label><div class=\"sk-toggleable__content\"><pre>XGBClassifier(base_score=None, booster=None, callbacks=None,\n",
              "              colsample_bylevel=None, colsample_bynode=None,\n",
              "              colsample_bytree=None, device=None, early_stopping_rounds=None,\n",
              "              enable_categorical=False, eval_metric=None, feature_types=None,\n",
              "              gamma=None, grow_policy=None, importance_type=None,\n",
              "              interaction_constraints=None, learning_rate=None, max_bin=None,\n",
              "              max_cat_threshold=None, max_cat_to_onehot=None,\n",
              "              max_delta_step=None, max_depth=None, max_leaves=None,\n",
              "              min_child_weight=None, missing=nan, monotone_constraints=None,\n",
              "              multi_strategy=None, n_estimators=100, n_jobs=None,\n",
              "              num_parallel_tree=None, random_state=123, ...)</pre></div></div></div></div></div></div></div></div><div class=\"sk-item\"><div class=\"sk-estimator sk-toggleable\"><input class=\"sk-toggleable__control sk-hidden--visually\" id=\"sk-estimator-id-24\" type=\"checkbox\" ><label for=\"sk-estimator-id-24\" class=\"sk-toggleable__label sk-toggleable__label-arrow\">XGBClassifier</label><div class=\"sk-toggleable__content\"><pre>XGBClassifier(base_score=None, booster=None, callbacks=None,\n",
              "              colsample_bylevel=None, colsample_bynode=None,\n",
              "              colsample_bytree=None, device=None, early_stopping_rounds=None,\n",
              "              enable_categorical=False, eval_metric=None, feature_types=None,\n",
              "              gamma=None, grow_policy=None, importance_type=None,\n",
              "              interaction_constraints=None, learning_rate=None, max_bin=None,\n",
              "              max_cat_threshold=None, max_cat_to_onehot=None,\n",
              "              max_delta_step=None, max_depth=None, max_leaves=None,\n",
              "              min_child_weight=None, missing=nan, monotone_constraints=None,\n",
              "              multi_strategy=None, n_estimators=None, n_jobs=None,\n",
              "              num_parallel_tree=None, random_state=None, ...)</pre></div></div></div></div></div></div></div>"
            ]
          },
          "metadata": {},
          "execution_count": 17
        }
      ]
    },
    {
      "cell_type": "code",
      "source": [
        "param_grid = {\n",
        "    'model__n_estimators': [300, 400],\n",
        "    'model__learning_rate': [0.25, 0.5],\n",
        "    'model__max_depth': [2],\n",
        "    'model__colsample_bytree': [0.8],\n",
        "    'model__subsample': [0.8],\n",
        "    'model__reg_alpha': [1, 1.5],\n",
        "    'model__reg_lambda': [3, 3.5],\n",
        "    'model__eval_metric': ['mlogloss']\n",
        "}\n",
        "\n",
        "grid_search = GridSearchCV(xgb_pipeline, param_grid, scoring=scoring, refit='recall', cv=cv_fold, verbose=1, n_jobs=-1)\n",
        "grid_search.fit(X_train, y_train)\n",
        "\n",
        "print(\"Best parameters found: \", grid_search.best_params_)\n",
        "print(\"Best Recall score found: \", grid_search.best_score_)"
      ],
      "metadata": {
        "colab": {
          "base_uri": "https://localhost:8080/"
        },
        "id": "b8XJpP1AEIe2",
        "outputId": "0bca5ea0-a099-48a3-ad05-b69f4f6cd293"
      },
      "execution_count": 18,
      "outputs": [
        {
          "output_type": "stream",
          "name": "stdout",
          "text": [
            "Fitting 3 folds for each of 16 candidates, totalling 48 fits\n",
            "Best parameters found:  {'model__colsample_bytree': 0.8, 'model__eval_metric': 'mlogloss', 'model__learning_rate': 0.25, 'model__max_depth': 2, 'model__n_estimators': 400, 'model__reg_alpha': 1, 'model__reg_lambda': 3, 'model__subsample': 0.8}\n",
            "Best Recall score found:  0.5111957266853545\n"
          ]
        }
      ]
    },
    {
      "cell_type": "code",
      "source": [
        "# Test on test data set\n",
        "best_pipeline = grid_search.best_estimator_\n",
        "\n",
        "predictions = best_pipeline.predict(X_test)\n",
        "y_proba = best_pipeline.predict_proba(X_test)\n",
        "\n",
        "# Evaluate the predictions\n",
        "precision = precision_score(y_test, predictions, average='weighted')\n",
        "recall = recall_score(y_test, predictions, average='weighted')\n",
        "f1 = f1_score(y_test, predictions, average='weighted')\n",
        "roc = roc_auc_score(label_binarize(y_test, classes=np.unique(y_train)), y_proba, multi_class='ovr', average='macro')\n",
        "accuracy = accuracy_score(y_test, predictions)\n",
        "\n",
        "# Print the evaluation metrics\n",
        "print(\"Accuracy:\", accuracy)\n",
        "print(\"Precision:\", precision)\n",
        "print(\"Recall:\", recall)\n",
        "print(\"F1 Score:\", f1)\n",
        "print(\"ROC:\", roc)"
      ],
      "metadata": {
        "colab": {
          "base_uri": "https://localhost:8080/"
        },
        "id": "76h9Wn4NZ_DK",
        "outputId": "ea8be1f0-3f92-4bf6-c930-abd9e8a7f7c4"
      },
      "execution_count": 19,
      "outputs": [
        {
          "output_type": "stream",
          "name": "stdout",
          "text": [
            "Accuracy: 0.5233031178612035\n",
            "Precision: 0.583543198432635\n",
            "Recall: 0.5233031178612035\n",
            "F1 Score: 0.5411211967739498\n",
            "ROC: 0.8544726721069121\n"
          ]
        }
      ]
    },
    {
      "cell_type": "markdown",
      "source": [
        "# CatBoost Tree"
      ],
      "metadata": {
        "id": "s87YXh0aaWau"
      }
    },
    {
      "cell_type": "code",
      "source": [
        "# Switch the model in the pipeline\n",
        "catb_pipeline = xgb_pipeline\n",
        "catb_pipeline.set_params(model=CatBoostClassifier(random_seed=seed, loss_function='MultiClass', verbose=False))"
      ],
      "metadata": {
        "colab": {
          "base_uri": "https://localhost:8080/",
          "height": 362
        },
        "id": "bXFD_ma0bBoz",
        "outputId": "8ec6a9d4-728e-4565-88a1-ecc4d31ac79b"
      },
      "execution_count": 23,
      "outputs": [
        {
          "output_type": "execute_result",
          "data": {
            "text/plain": [
              "Pipeline(memory=Memory(location=/tmp/tmp05w0s2z9/joblib),\n",
              "         steps=[('preprocessor',\n",
              "                 ColumnTransformer(transformers=[('num',\n",
              "                                                  Pipeline(steps=[('imputer',\n",
              "                                                                   SimpleImputer()),\n",
              "                                                                  ('scaler',\n",
              "                                                                   StandardScaler())]),\n",
              "                                                  []),\n",
              "                                                 ('bool', 'passthrough',\n",
              "                                                  ['wilderness_area_id_0',\n",
              "                                                   'wilderness_area_id_1',\n",
              "                                                   'wilderness_area_id_2',\n",
              "                                                   'wilderness_area_id_3',\n",
              "                                                   'soil_type_id_0',\n",
              "                                                   'soil_type_id_1',\n",
              "                                                   'soi...\n",
              "                                                         max_bin=None,\n",
              "                                                         max_cat_threshold=None,\n",
              "                                                         max_cat_to_onehot=None,\n",
              "                                                         max_delta_step=None,\n",
              "                                                         max_depth=None,\n",
              "                                                         max_leaves=None,\n",
              "                                                         min_child_weight=None,\n",
              "                                                         missing=nan,\n",
              "                                                         monotone_constraints=None,\n",
              "                                                         multi_strategy=None,\n",
              "                                                         n_estimators=100,\n",
              "                                                         n_jobs=None,\n",
              "                                                         num_parallel_tree=None,\n",
              "                                                         random_state=123, ...),\n",
              "                                 threshold='median')),\n",
              "                ('model',\n",
              "                 <catboost.core.CatBoostClassifier object at 0x7c375056ca90>)])"
            ],
            "text/html": [
              "<style>#sk-container-id-4 {color: black;background-color: white;}#sk-container-id-4 pre{padding: 0;}#sk-container-id-4 div.sk-toggleable {background-color: white;}#sk-container-id-4 label.sk-toggleable__label {cursor: pointer;display: block;width: 100%;margin-bottom: 0;padding: 0.3em;box-sizing: border-box;text-align: center;}#sk-container-id-4 label.sk-toggleable__label-arrow:before {content: \"▸\";float: left;margin-right: 0.25em;color: #696969;}#sk-container-id-4 label.sk-toggleable__label-arrow:hover:before {color: black;}#sk-container-id-4 div.sk-estimator:hover label.sk-toggleable__label-arrow:before {color: black;}#sk-container-id-4 div.sk-toggleable__content {max-height: 0;max-width: 0;overflow: hidden;text-align: left;background-color: #f0f8ff;}#sk-container-id-4 div.sk-toggleable__content pre {margin: 0.2em;color: black;border-radius: 0.25em;background-color: #f0f8ff;}#sk-container-id-4 input.sk-toggleable__control:checked~div.sk-toggleable__content {max-height: 200px;max-width: 100%;overflow: auto;}#sk-container-id-4 input.sk-toggleable__control:checked~label.sk-toggleable__label-arrow:before {content: \"▾\";}#sk-container-id-4 div.sk-estimator input.sk-toggleable__control:checked~label.sk-toggleable__label {background-color: #d4ebff;}#sk-container-id-4 div.sk-label input.sk-toggleable__control:checked~label.sk-toggleable__label {background-color: #d4ebff;}#sk-container-id-4 input.sk-hidden--visually {border: 0;clip: rect(1px 1px 1px 1px);clip: rect(1px, 1px, 1px, 1px);height: 1px;margin: -1px;overflow: hidden;padding: 0;position: absolute;width: 1px;}#sk-container-id-4 div.sk-estimator {font-family: monospace;background-color: #f0f8ff;border: 1px dotted black;border-radius: 0.25em;box-sizing: border-box;margin-bottom: 0.5em;}#sk-container-id-4 div.sk-estimator:hover {background-color: #d4ebff;}#sk-container-id-4 div.sk-parallel-item::after {content: \"\";width: 100%;border-bottom: 1px solid gray;flex-grow: 1;}#sk-container-id-4 div.sk-label:hover label.sk-toggleable__label {background-color: #d4ebff;}#sk-container-id-4 div.sk-serial::before {content: \"\";position: absolute;border-left: 1px solid gray;box-sizing: border-box;top: 0;bottom: 0;left: 50%;z-index: 0;}#sk-container-id-4 div.sk-serial {display: flex;flex-direction: column;align-items: center;background-color: white;padding-right: 0.2em;padding-left: 0.2em;position: relative;}#sk-container-id-4 div.sk-item {position: relative;z-index: 1;}#sk-container-id-4 div.sk-parallel {display: flex;align-items: stretch;justify-content: center;background-color: white;position: relative;}#sk-container-id-4 div.sk-item::before, #sk-container-id-4 div.sk-parallel-item::before {content: \"\";position: absolute;border-left: 1px solid gray;box-sizing: border-box;top: 0;bottom: 0;left: 50%;z-index: -1;}#sk-container-id-4 div.sk-parallel-item {display: flex;flex-direction: column;z-index: 1;position: relative;background-color: white;}#sk-container-id-4 div.sk-parallel-item:first-child::after {align-self: flex-end;width: 50%;}#sk-container-id-4 div.sk-parallel-item:last-child::after {align-self: flex-start;width: 50%;}#sk-container-id-4 div.sk-parallel-item:only-child::after {width: 0;}#sk-container-id-4 div.sk-dashed-wrapped {border: 1px dashed gray;margin: 0 0.4em 0.5em 0.4em;box-sizing: border-box;padding-bottom: 0.4em;background-color: white;}#sk-container-id-4 div.sk-label label {font-family: monospace;font-weight: bold;display: inline-block;line-height: 1.2em;}#sk-container-id-4 div.sk-label-container {text-align: center;}#sk-container-id-4 div.sk-container {/* jupyter's `normalize.less` sets `[hidden] { display: none; }` but bootstrap.min.css set `[hidden] { display: none !important; }` so we also need the `!important` here to be able to override the default hidden behavior on the sphinx rendered scikit-learn.org. See: https://github.com/scikit-learn/scikit-learn/issues/21755 */display: inline-block !important;position: relative;}#sk-container-id-4 div.sk-text-repr-fallback {display: none;}</style><div id=\"sk-container-id-4\" class=\"sk-top-container\"><div class=\"sk-text-repr-fallback\"><pre>Pipeline(memory=Memory(location=/tmp/tmp05w0s2z9/joblib),\n",
              "         steps=[(&#x27;preprocessor&#x27;,\n",
              "                 ColumnTransformer(transformers=[(&#x27;num&#x27;,\n",
              "                                                  Pipeline(steps=[(&#x27;imputer&#x27;,\n",
              "                                                                   SimpleImputer()),\n",
              "                                                                  (&#x27;scaler&#x27;,\n",
              "                                                                   StandardScaler())]),\n",
              "                                                  []),\n",
              "                                                 (&#x27;bool&#x27;, &#x27;passthrough&#x27;,\n",
              "                                                  [&#x27;wilderness_area_id_0&#x27;,\n",
              "                                                   &#x27;wilderness_area_id_1&#x27;,\n",
              "                                                   &#x27;wilderness_area_id_2&#x27;,\n",
              "                                                   &#x27;wilderness_area_id_3&#x27;,\n",
              "                                                   &#x27;soil_type_id_0&#x27;,\n",
              "                                                   &#x27;soil_type_id_1&#x27;,\n",
              "                                                   &#x27;soi...\n",
              "                                                         max_bin=None,\n",
              "                                                         max_cat_threshold=None,\n",
              "                                                         max_cat_to_onehot=None,\n",
              "                                                         max_delta_step=None,\n",
              "                                                         max_depth=None,\n",
              "                                                         max_leaves=None,\n",
              "                                                         min_child_weight=None,\n",
              "                                                         missing=nan,\n",
              "                                                         monotone_constraints=None,\n",
              "                                                         multi_strategy=None,\n",
              "                                                         n_estimators=100,\n",
              "                                                         n_jobs=None,\n",
              "                                                         num_parallel_tree=None,\n",
              "                                                         random_state=123, ...),\n",
              "                                 threshold=&#x27;median&#x27;)),\n",
              "                (&#x27;model&#x27;,\n",
              "                 &lt;catboost.core.CatBoostClassifier object at 0x7c375056ca90&gt;)])</pre><b>In a Jupyter environment, please rerun this cell to show the HTML representation or trust the notebook. <br />On GitHub, the HTML representation is unable to render, please try loading this page with nbviewer.org.</b></div><div class=\"sk-container\" hidden><div class=\"sk-item sk-dashed-wrapped\"><div class=\"sk-label-container\"><div class=\"sk-label sk-toggleable\"><input class=\"sk-toggleable__control sk-hidden--visually\" id=\"sk-estimator-id-37\" type=\"checkbox\" ><label for=\"sk-estimator-id-37\" class=\"sk-toggleable__label sk-toggleable__label-arrow\">Pipeline</label><div class=\"sk-toggleable__content\"><pre>Pipeline(memory=Memory(location=/tmp/tmp05w0s2z9/joblib),\n",
              "         steps=[(&#x27;preprocessor&#x27;,\n",
              "                 ColumnTransformer(transformers=[(&#x27;num&#x27;,\n",
              "                                                  Pipeline(steps=[(&#x27;imputer&#x27;,\n",
              "                                                                   SimpleImputer()),\n",
              "                                                                  (&#x27;scaler&#x27;,\n",
              "                                                                   StandardScaler())]),\n",
              "                                                  []),\n",
              "                                                 (&#x27;bool&#x27;, &#x27;passthrough&#x27;,\n",
              "                                                  [&#x27;wilderness_area_id_0&#x27;,\n",
              "                                                   &#x27;wilderness_area_id_1&#x27;,\n",
              "                                                   &#x27;wilderness_area_id_2&#x27;,\n",
              "                                                   &#x27;wilderness_area_id_3&#x27;,\n",
              "                                                   &#x27;soil_type_id_0&#x27;,\n",
              "                                                   &#x27;soil_type_id_1&#x27;,\n",
              "                                                   &#x27;soi...\n",
              "                                                         max_bin=None,\n",
              "                                                         max_cat_threshold=None,\n",
              "                                                         max_cat_to_onehot=None,\n",
              "                                                         max_delta_step=None,\n",
              "                                                         max_depth=None,\n",
              "                                                         max_leaves=None,\n",
              "                                                         min_child_weight=None,\n",
              "                                                         missing=nan,\n",
              "                                                         monotone_constraints=None,\n",
              "                                                         multi_strategy=None,\n",
              "                                                         n_estimators=100,\n",
              "                                                         n_jobs=None,\n",
              "                                                         num_parallel_tree=None,\n",
              "                                                         random_state=123, ...),\n",
              "                                 threshold=&#x27;median&#x27;)),\n",
              "                (&#x27;model&#x27;,\n",
              "                 &lt;catboost.core.CatBoostClassifier object at 0x7c375056ca90&gt;)])</pre></div></div></div><div class=\"sk-serial\"><div class=\"sk-item sk-dashed-wrapped\"><div class=\"sk-label-container\"><div class=\"sk-label sk-toggleable\"><input class=\"sk-toggleable__control sk-hidden--visually\" id=\"sk-estimator-id-38\" type=\"checkbox\" ><label for=\"sk-estimator-id-38\" class=\"sk-toggleable__label sk-toggleable__label-arrow\">preprocessor: ColumnTransformer</label><div class=\"sk-toggleable__content\"><pre>ColumnTransformer(transformers=[(&#x27;num&#x27;,\n",
              "                                 Pipeline(steps=[(&#x27;imputer&#x27;, SimpleImputer()),\n",
              "                                                 (&#x27;scaler&#x27;, StandardScaler())]),\n",
              "                                 []),\n",
              "                                (&#x27;bool&#x27;, &#x27;passthrough&#x27;,\n",
              "                                 [&#x27;wilderness_area_id_0&#x27;,\n",
              "                                  &#x27;wilderness_area_id_1&#x27;,\n",
              "                                  &#x27;wilderness_area_id_2&#x27;,\n",
              "                                  &#x27;wilderness_area_id_3&#x27;, &#x27;soil_type_id_0&#x27;,\n",
              "                                  &#x27;soil_type_id_1&#x27;, &#x27;soil_type_id_2&#x27;,\n",
              "                                  &#x27;soil_type_id_3&#x27;, &#x27;soil_type_id_4&#x27;,\n",
              "                                  &#x27;soil_type_id_5&#x27;, &#x27;soil_type_id_6&#x27;,\n",
              "                                  &#x27;soil_type_id_7&#x27;, &#x27;soil_type_id_8&#x27;,\n",
              "                                  &#x27;soil_type_id_9&#x27;, &#x27;soil_type_id_10&#x27;,\n",
              "                                  &#x27;soil_type_id_11&#x27;, &#x27;soil_type_id_12&#x27;,\n",
              "                                  &#x27;soil_type_id_13&#x27;, &#x27;soil_type_id_14&#x27;,\n",
              "                                  &#x27;soil_type_id_15&#x27;, &#x27;soil_type_id_16&#x27;,\n",
              "                                  &#x27;soil_type_id_17&#x27;, &#x27;soil_type_id_18&#x27;,\n",
              "                                  &#x27;soil_type_id_19&#x27;, &#x27;soil_type_id_20&#x27;,\n",
              "                                  &#x27;soil_type_id_21&#x27;, &#x27;soil_type_id_22&#x27;,\n",
              "                                  &#x27;soil_type_id_23&#x27;, &#x27;soil_type_id_24&#x27;,\n",
              "                                  &#x27;soil_type_id_25&#x27;, ...])])</pre></div></div></div><div class=\"sk-parallel\"><div class=\"sk-parallel-item\"><div class=\"sk-item\"><div class=\"sk-label-container\"><div class=\"sk-label sk-toggleable\"><input class=\"sk-toggleable__control sk-hidden--visually\" id=\"sk-estimator-id-39\" type=\"checkbox\" ><label for=\"sk-estimator-id-39\" class=\"sk-toggleable__label sk-toggleable__label-arrow\">num</label><div class=\"sk-toggleable__content\"><pre>[]</pre></div></div></div><div class=\"sk-serial\"><div class=\"sk-item\"><div class=\"sk-serial\"><div class=\"sk-item\"><div class=\"sk-estimator sk-toggleable\"><input class=\"sk-toggleable__control sk-hidden--visually\" id=\"sk-estimator-id-40\" type=\"checkbox\" ><label for=\"sk-estimator-id-40\" class=\"sk-toggleable__label sk-toggleable__label-arrow\">SimpleImputer</label><div class=\"sk-toggleable__content\"><pre>SimpleImputer()</pre></div></div></div><div class=\"sk-item\"><div class=\"sk-estimator sk-toggleable\"><input class=\"sk-toggleable__control sk-hidden--visually\" id=\"sk-estimator-id-41\" type=\"checkbox\" ><label for=\"sk-estimator-id-41\" class=\"sk-toggleable__label sk-toggleable__label-arrow\">StandardScaler</label><div class=\"sk-toggleable__content\"><pre>StandardScaler()</pre></div></div></div></div></div></div></div></div><div class=\"sk-parallel-item\"><div class=\"sk-item\"><div class=\"sk-label-container\"><div class=\"sk-label sk-toggleable\"><input class=\"sk-toggleable__control sk-hidden--visually\" id=\"sk-estimator-id-42\" type=\"checkbox\" ><label for=\"sk-estimator-id-42\" class=\"sk-toggleable__label sk-toggleable__label-arrow\">bool</label><div class=\"sk-toggleable__content\"><pre>[&#x27;wilderness_area_id_0&#x27;, &#x27;wilderness_area_id_1&#x27;, &#x27;wilderness_area_id_2&#x27;, &#x27;wilderness_area_id_3&#x27;, &#x27;soil_type_id_0&#x27;, &#x27;soil_type_id_1&#x27;, &#x27;soil_type_id_2&#x27;, &#x27;soil_type_id_3&#x27;, &#x27;soil_type_id_4&#x27;, &#x27;soil_type_id_5&#x27;, &#x27;soil_type_id_6&#x27;, &#x27;soil_type_id_7&#x27;, &#x27;soil_type_id_8&#x27;, &#x27;soil_type_id_9&#x27;, &#x27;soil_type_id_10&#x27;, &#x27;soil_type_id_11&#x27;, &#x27;soil_type_id_12&#x27;, &#x27;soil_type_id_13&#x27;, &#x27;soil_type_id_14&#x27;, &#x27;soil_type_id_15&#x27;, &#x27;soil_type_id_16&#x27;, &#x27;soil_type_id_17&#x27;, &#x27;soil_type_id_18&#x27;, &#x27;soil_type_id_19&#x27;, &#x27;soil_type_id_20&#x27;, &#x27;soil_type_id_21&#x27;, &#x27;soil_type_id_22&#x27;, &#x27;soil_type_id_23&#x27;, &#x27;soil_type_id_24&#x27;, &#x27;soil_type_id_25&#x27;, &#x27;soil_type_id_26&#x27;, &#x27;soil_type_id_27&#x27;, &#x27;soil_type_id_28&#x27;, &#x27;soil_type_id_29&#x27;, &#x27;soil_type_id_30&#x27;, &#x27;soil_type_id_31&#x27;, &#x27;soil_type_id_32&#x27;, &#x27;soil_type_id_33&#x27;, &#x27;soil_type_id_34&#x27;, &#x27;soil_type_id_35&#x27;, &#x27;soil_type_id_36&#x27;, &#x27;soil_type_id_37&#x27;, &#x27;soil_type_id_38&#x27;, &#x27;soil_type_id_39&#x27;]</pre></div></div></div><div class=\"sk-serial\"><div class=\"sk-item\"><div class=\"sk-estimator sk-toggleable\"><input class=\"sk-toggleable__control sk-hidden--visually\" id=\"sk-estimator-id-43\" type=\"checkbox\" ><label for=\"sk-estimator-id-43\" class=\"sk-toggleable__label sk-toggleable__label-arrow\">passthrough</label><div class=\"sk-toggleable__content\"><pre>passthrough</pre></div></div></div></div></div></div></div></div><div class=\"sk-item\"><div class=\"sk-estimator sk-toggleable\"><input class=\"sk-toggleable__control sk-hidden--visually\" id=\"sk-estimator-id-44\" type=\"checkbox\" ><label for=\"sk-estimator-id-44\" class=\"sk-toggleable__label sk-toggleable__label-arrow\">RandomOverSampler</label><div class=\"sk-toggleable__content\"><pre>RandomOverSampler(random_state=123)</pre></div></div></div><div class=\"sk-item sk-dashed-wrapped\"><div class=\"sk-label-container\"><div class=\"sk-label sk-toggleable\"><input class=\"sk-toggleable__control sk-hidden--visually\" id=\"sk-estimator-id-45\" type=\"checkbox\" ><label for=\"sk-estimator-id-45\" class=\"sk-toggleable__label sk-toggleable__label-arrow\">feature_selection: SelectFromModel</label><div class=\"sk-toggleable__content\"><pre>SelectFromModel(estimator=XGBClassifier(base_score=None, booster=None,\n",
              "                                        callbacks=None, colsample_bylevel=None,\n",
              "                                        colsample_bynode=None,\n",
              "                                        colsample_bytree=None, device=None,\n",
              "                                        early_stopping_rounds=None,\n",
              "                                        enable_categorical=False,\n",
              "                                        eval_metric=None, feature_types=None,\n",
              "                                        gamma=None, grow_policy=None,\n",
              "                                        importance_type=None,\n",
              "                                        interaction_constraints=None,\n",
              "                                        learning_rate=None, max_bin=None,\n",
              "                                        max_cat_threshold=None,\n",
              "                                        max_cat_to_onehot=None,\n",
              "                                        max_delta_step=None, max_depth=None,\n",
              "                                        max_leaves=None, min_child_weight=None,\n",
              "                                        missing=nan, monotone_constraints=None,\n",
              "                                        multi_strategy=None, n_estimators=100,\n",
              "                                        n_jobs=None, num_parallel_tree=None,\n",
              "                                        random_state=123, ...),\n",
              "                threshold=&#x27;median&#x27;)</pre></div></div></div><div class=\"sk-parallel\"><div class=\"sk-parallel-item\"><div class=\"sk-item\"><div class=\"sk-label-container\"><div class=\"sk-label sk-toggleable\"><input class=\"sk-toggleable__control sk-hidden--visually\" id=\"sk-estimator-id-46\" type=\"checkbox\" ><label for=\"sk-estimator-id-46\" class=\"sk-toggleable__label sk-toggleable__label-arrow\">estimator: XGBClassifier</label><div class=\"sk-toggleable__content\"><pre>XGBClassifier(base_score=None, booster=None, callbacks=None,\n",
              "              colsample_bylevel=None, colsample_bynode=None,\n",
              "              colsample_bytree=None, device=None, early_stopping_rounds=None,\n",
              "              enable_categorical=False, eval_metric=None, feature_types=None,\n",
              "              gamma=None, grow_policy=None, importance_type=None,\n",
              "              interaction_constraints=None, learning_rate=None, max_bin=None,\n",
              "              max_cat_threshold=None, max_cat_to_onehot=None,\n",
              "              max_delta_step=None, max_depth=None, max_leaves=None,\n",
              "              min_child_weight=None, missing=nan, monotone_constraints=None,\n",
              "              multi_strategy=None, n_estimators=100, n_jobs=None,\n",
              "              num_parallel_tree=None, random_state=123, ...)</pre></div></div></div><div class=\"sk-serial\"><div class=\"sk-item\"><div class=\"sk-estimator sk-toggleable\"><input class=\"sk-toggleable__control sk-hidden--visually\" id=\"sk-estimator-id-47\" type=\"checkbox\" ><label for=\"sk-estimator-id-47\" class=\"sk-toggleable__label sk-toggleable__label-arrow\">XGBClassifier</label><div class=\"sk-toggleable__content\"><pre>XGBClassifier(base_score=None, booster=None, callbacks=None,\n",
              "              colsample_bylevel=None, colsample_bynode=None,\n",
              "              colsample_bytree=None, device=None, early_stopping_rounds=None,\n",
              "              enable_categorical=False, eval_metric=None, feature_types=None,\n",
              "              gamma=None, grow_policy=None, importance_type=None,\n",
              "              interaction_constraints=None, learning_rate=None, max_bin=None,\n",
              "              max_cat_threshold=None, max_cat_to_onehot=None,\n",
              "              max_delta_step=None, max_depth=None, max_leaves=None,\n",
              "              min_child_weight=None, missing=nan, monotone_constraints=None,\n",
              "              multi_strategy=None, n_estimators=100, n_jobs=None,\n",
              "              num_parallel_tree=None, random_state=123, ...)</pre></div></div></div></div></div></div></div></div><div class=\"sk-item\"><div class=\"sk-estimator sk-toggleable\"><input class=\"sk-toggleable__control sk-hidden--visually\" id=\"sk-estimator-id-48\" type=\"checkbox\" ><label for=\"sk-estimator-id-48\" class=\"sk-toggleable__label sk-toggleable__label-arrow\">CatBoostClassifier</label><div class=\"sk-toggleable__content\"><pre>&lt;catboost.core.CatBoostClassifier object at 0x7c375056ca90&gt;</pre></div></div></div></div></div></div></div>"
            ]
          },
          "metadata": {},
          "execution_count": 23
        }
      ]
    },
    {
      "cell_type": "code",
      "source": [
        "param_grid = {\n",
        "    'model__iterations': [400, 500, 800],\n",
        "    'model__learning_rate': [0.1, 0.25, 0.5],\n",
        "    'model__max_depth': [2, 3, 4],\n",
        "}\n",
        "\n",
        "grid_search = GridSearchCV(catb_pipeline, param_grid, scoring=scoring, refit='recall', cv=cv_fold, verbose=1, n_jobs=-1)\n",
        "grid_search.fit(X_train, y_train)\n",
        "\n",
        "print(\"Best parameters found: \", grid_search.best_params_)\n",
        "print(\"Best Recall score found: \", grid_search.best_score_)"
      ],
      "metadata": {
        "colab": {
          "base_uri": "https://localhost:8080/"
        },
        "id": "wrTIenUT_v08",
        "outputId": "91ccaf0c-a099-4cd1-9dd9-ecc6c224fd53"
      },
      "execution_count": null,
      "outputs": [
        {
          "output_type": "stream",
          "name": "stdout",
          "text": [
            "Fitting 3 folds for each of 27 candidates, totalling 81 fits\n"
          ]
        }
      ]
    },
    {
      "cell_type": "code",
      "source": [
        "# Test on test data set\n",
        "best_pipeline = grid_search.best_estimator_\n",
        "\n",
        "predictions = best_pipeline.predict(X_test)\n",
        "y_proba = best_pipeline.predict_proba(X_test)\n",
        "\n",
        "# Evaluate the predictions\n",
        "precision = precision_score(y_test, predictions, average='weighted')\n",
        "recall = recall_score(y_test, predictions, average='weighted')\n",
        "f1 = f1_score(y_test, predictions, average='weighted')\n",
        "roc = roc_auc_score(label_binarize(y_test, classes=np.unique(y_train)), y_proba, multi_class='ovr', average='macro')\n",
        "accuracy = accuracy_score(y_test, predictions)\n",
        "\n",
        "# Print the evaluation metrics\n",
        "print(\"Accuracy:\", accuracy)\n",
        "print(\"Precision:\", precision)\n",
        "print(\"Recall:\", recall)\n",
        "print(\"F1 Score:\", f1)\n",
        "print(\"ROC:\", roc)"
      ],
      "metadata": {
        "colab": {
          "base_uri": "https://localhost:8080/"
        },
        "id": "Ggb9GUeZAN7b",
        "outputId": "da9a0648-2b33-4c1a-e176-211f178f36c2"
      },
      "execution_count": 22,
      "outputs": [
        {
          "output_type": "stream",
          "name": "stdout",
          "text": [
            "Accuracy: 0.5233031178612035\n",
            "Precision: 0.583543198432635\n",
            "Recall: 0.5233031178612035\n",
            "F1 Score: 0.5411211967739498\n",
            "ROC: 0.8538068873896739\n"
          ]
        }
      ]
    },
    {
      "cell_type": "markdown",
      "source": [
        "# Neural Network"
      ],
      "metadata": {
        "id": "jfduhg7UolfH"
      }
    },
    {
      "cell_type": "code",
      "source": [],
      "metadata": {
        "id": "S9Fo5kbgovTM"
      },
      "execution_count": 22,
      "outputs": []
    },
    {
      "cell_type": "markdown",
      "source": [],
      "metadata": {
        "id": "MLU326Y5ouat"
      }
    }
  ]
}